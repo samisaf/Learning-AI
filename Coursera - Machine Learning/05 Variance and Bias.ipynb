{
 "cells": [
  {
   "metadata": {},
   "cell_type": "markdown",
   "source": [
    "# Regularized Linear Regression and Bias versus Variance\n",
    "In this exercise, you will implement regularized linear regression and use it to\n",
    "study models with different bias-variance properties.\n",
    "\n",
    "## Regularized Linear Regression\n",
    "In the first half of the exercise, we implement regularized linear regression to predict the amount of water flowing out of a dam using the change of water level in a reservoir. \n",
    "In the next half, we go through some diagnostics of debugging learning algorithms and examine the effects of bias versus variance."
   ],
   "id": "d5fa93166059e943"
  },
  {
   "metadata": {
    "ExecuteTime": {
     "end_time": "2024-10-26T02:53:27.359264Z",
     "start_time": "2024-10-26T02:53:27.336224Z"
    }
   },
   "cell_type": "code",
   "source": [
    "import numpy as np\n",
    "import matplotlib.pyplot as plt\n",
    "import scipy\n",
    "plt.style.use('ggplot')"
   ],
   "id": "bbef41c4e27f5bce",
   "outputs": [],
   "execution_count": 91
  },
  {
   "metadata": {},
   "cell_type": "markdown",
   "source": [
    "### Visualizing the dataset\n",
    "We will begin by visualizing the dataset containing historical records on the change in the water level, x, and the amount of water flowing out of the dam, y.\n",
    "This dataset is divided into three parts:\n",
    "- A training set that your model will learn on: X, y\n",
    "- A cross validation set for determining the regularization parameter:\n",
    "Xval, yval\n",
    "- A test set for evaluating performance. These are “unseen” examples\n",
    "which your model did not see during training: Xtest, ytest\n",
    "\n",
    "We import the data, and then plot the training data. In the\n",
    "following parts, we implement linear regression and use that to fit a\n",
    "straight line to the data and plot learning curves. Following that, we\n",
    "implement polynomial regression to find a better fit to the data.\n"
   ],
   "id": "410564f941fd0379"
  },
  {
   "metadata": {
    "ExecuteTime": {
     "end_time": "2024-10-26T02:53:27.478252Z",
     "start_time": "2024-10-26T02:53:27.462540Z"
    }
   },
   "cell_type": "code",
   "source": [
    "data = scipy.io.loadmat('./data/ex5data1.mat')\n",
    "X, y = data['X'], data['y'].T[0]\n",
    "Xtest, ytest = data['Xtest'], data['ytest'].T[0]\n",
    "Xval, yval = data['Xval'], data['yval'].T[0]"
   ],
   "id": "125fa8d22c6f0c6f",
   "outputs": [],
   "execution_count": 92
  },
  {
   "metadata": {
    "ExecuteTime": {
     "end_time": "2024-10-26T02:53:27.692803Z",
     "start_time": "2024-10-26T02:53:27.493841Z"
    }
   },
   "cell_type": "code",
   "source": [
    "plt.scatter(X, y)\n",
    "plt.xlabel('Change in water level (x)')\n",
    "plt.ylabel('Water flowing out of the dam (y)')\n",
    "X.shape, y.shape"
   ],
   "id": "23fb8910c1025eb6",
   "outputs": [
    {
     "data": {
      "text/plain": [
       "((12, 1), (12,))"
      ]
     },
     "execution_count": 93,
     "metadata": {},
     "output_type": "execute_result"
    },
    {
     "data": {
      "text/plain": [
       "<Figure size 640x480 with 1 Axes>"
      ],
      "image/png": "[encoded data removed]"
     },
     "metadata": {},
     "output_type": "display_data"
    }
   ],
   "execution_count": 93
  },
  {
   "metadata": {},
   "cell_type": "markdown",
   "source": [
    "### Regularized linear regression cost function\n",
    "\n",
    "Recall that regularized linear regression has the following cost function:\n",
    "\n",
    "$$\n",
    "J(\\theta) = \\frac{1}{2m} \\sum_{i=1}^{m} \\left( h_{\\theta}(x^{(i)}) - y^{(i)} \\right)^2 + \\frac{\\lambda}{2m} \\sum_{j=1}^{n} \\theta_{j}^2,\n",
    "$$\n",
    "\n",
    "where $ \\lambda $ is a regularization parameter which controls the degree of regularization (thus, helping to prevent overfitting). The regularization term puts a penalty on the overall cost $ J $. As the magnitudes of the model parameters $ \\theta_j $ increase, the penalty increases as well. Note that you should not regularize the $ \\theta_0 $ term.\n",
    "\n",
    "Wr now complete the code in `linearRegCostFunction`. Your write a function to calculate the regularized linear regression cost function. We try to vectorize your code and avoid writing loops. We run the cost function using `theta` initialized at `[1; 1]`. We should expect to see an output of 303.993.\n"
   ],
   "id": "6510a359b220822f"
  },
  {
   "metadata": {
    "ExecuteTime": {
     "end_time": "2024-10-26T02:53:27.726218Z",
     "start_time": "2024-10-26T02:53:27.713931Z"
    }
   },
   "cell_type": "code",
   "source": [
    "def hypothesis(X, theta):\n",
    "    theta = np.array(theta)\n",
    "    X = np.hstack((np.ones((X.shape[0], 1)), X))\n",
    "    return X @ theta\n",
    "\n",
    "hypothesis(X, [1, 1])"
   ],
   "id": "4ea67c8544a6bffe",
   "outputs": [
    {
     "data": {
      "text/plain": [
       "array([-14.93675813, -28.15297922,  37.18954863,  38.49218733,\n",
       "       -47.05882945,  -7.94145794,  16.30779289, -33.70626581,\n",
       "         2.38915437, -43.38375985,   8.01350208,  23.76274892])"
      ]
     },
     "execution_count": 94,
     "metadata": {},
     "output_type": "execute_result"
    }
   ],
   "execution_count": 94
  },
  {
   "metadata": {
    "ExecuteTime": {
     "end_time": "2024-10-26T02:53:27.851785Z",
     "start_time": "2024-10-26T02:53:27.824700Z"
    }
   },
   "cell_type": "code",
   "source": [
    "def cost(X, y, mu=0):\n",
    "    m = len(y)\n",
    "    X = np.hstack((np.ones((X.shape[0], 1)), X))\n",
    "    def J(theta):\n",
    "        theta = np.array(theta)\n",
    "        h = X @ theta\n",
    "        term1 = np.sum((h - y)**2)\n",
    "        term2 = mu * np.sum(theta[1:])\n",
    "        return (term1 + term2) / (2*m)\n",
    "    return J\n",
    "\n",
    "cost(X, y)([1, 1])"
   ],
   "id": "654adcaffdc58f57",
   "outputs": [
    {
     "data": {
      "text/plain": [
       "303.9515255535976"
      ]
     },
     "execution_count": 95,
     "metadata": {},
     "output_type": "execute_result"
    }
   ],
   "execution_count": 95
  },
  {
   "metadata": {},
   "cell_type": "markdown",
   "source": [
    "### Regularized linear regression gradient\n",
    "\n",
    "Correspondingly, the partial derivative of regularized linear regression’s cost for $ \\theta_j $ is defined as:\n",
    "\n",
    "$$\n",
    "\\frac{\\partial J(\\theta)}{\\partial \\theta_0} = \\frac{1}{m} \\sum_{i=1}^{m} (h_{\\theta}(x^{(i)}) - y^{(i)})x^{(i)}_j \\quad \\text{for } j = 0\n",
    "$$\n",
    "\n",
    "$$\n",
    "\\frac{\\partial J(\\theta)}{\\partial \\theta_j} = \\frac{1}{m} \\sum_{i=1}^{m} (h_{\\theta}(x^{(i)}) - y^{(i)})x^{(i)}_j + \\frac{\\lambda}{m} \\theta_j \\quad \\text{for } j \\geq 1\n",
    "$$\n",
    "\n",
    "We create `gradient` to calculate the gradient. When you are finished, we run the gradient function using `theta` initialized at $[1; 1]$. We should expect to see a gradient of $[-15.30; 598.250]$.\n"
   ],
   "id": "99d8907abd573dd2"
  },
  {
   "metadata": {
    "ExecuteTime": {
     "end_time": "2024-10-26T02:53:27.885301Z",
     "start_time": "2024-10-26T02:53:27.872019Z"
    }
   },
   "cell_type": "code",
   "source": [
    "def gradient(X, y, mu=0):\n",
    "    m = len(y)\n",
    "    X = np.hstack((np.ones((X.shape[0], 1)), X))\n",
    "    def G(theta):\n",
    "        theta = np.array(theta)\n",
    "        h = X @ theta\n",
    "        grads = []\n",
    "        for j in range(len(theta)):\n",
    "            grads_unreg = np.sum((h - y) * X[:, j]) / m\n",
    "            if j == 0: grads.append(grads_unreg)\n",
    "            else: grads.append(grads_unreg + mu*theta[j]/m)\n",
    "        return np.array(grads)\n",
    "    return G\n",
    "\n",
    "gradient(X, y)([1, 1])"
   ],
   "id": "5977f134f626b435",
   "outputs": [
    {
     "data": {
      "text/plain": [
       "array([-15.30301567, 598.16741084])"
      ]
     },
     "execution_count": 96,
     "metadata": {},
     "output_type": "execute_result"
    }
   ],
   "execution_count": 96
  },
  {
   "metadata": {},
   "cell_type": "markdown",
   "source": [
    "### Fitting linear regression\n",
    "We now run the code in `trainLinearReg` to compute the optimal value of $\\theta$. This training function uses `scipy.optimize.minimize` to optimize the cost function.\n",
    "\n",
    "In this part, we set the regularization parameter $\\lambda$ to zero. Because our current implementation of linear regression is trying to fit a 2-dimensional $\\theta$, regularization will not be incredibly helpful for a $\\theta$ of such low dimension. In the later parts of the exercise, you will be using polynomial regression with regularization.\n",
    "\n",
    "Finally, we should also plot the best fit line. \n",
    "The best fit line tells us that the model is not a good fit to the data because the data has a non-linear pattern. \n",
    "While visualizing the best fit as shown is one possible way to debug the learning algorithm, it is not always easy to visualize the data and model. \n",
    "In the next section, we will implement a function to generate learning curves that can help debug the learning algorithm even if it is not easy to visualize the data.\n"
   ],
   "id": "c64e49dcd4d334d"
  },
  {
   "metadata": {
    "ExecuteTime": {
     "end_time": "2024-10-26T02:53:27.927474Z",
     "start_time": "2024-10-26T02:53:27.919182Z"
    }
   },
   "cell_type": "code",
   "source": [
    "def trainLinearRegression(X, y, theta0=None, mu=0):\n",
    "    theta = np.zeros(X.shape[1]+1) if theta0 is None else theta0\n",
    "    J = cost(X, y, mu)\n",
    "    G = gradient(X, y, mu)\n",
    "    result = scipy.optimize.minimize(fun=J, jac=G, x0=theta, method='BFGS')\n",
    "    return result"
   ],
   "id": "969d71253c21fbaf",
   "outputs": [],
   "execution_count": 97
  },
  {
   "metadata": {
    "ExecuteTime": {
     "end_time": "2024-10-26T02:53:27.979508Z",
     "start_time": "2024-10-26T02:53:27.968818Z"
    }
   },
   "cell_type": "code",
   "source": [
    "model = trainLinearRegression(X, y)\n",
    "theta = model.x\n",
    "theta"
   ],
   "id": "13e3c61991b0830a",
   "outputs": [
    {
     "data": {
      "text/plain": [
       "array([13.08790351,  0.36777923])"
      ]
     },
     "execution_count": 98,
     "metadata": {},
     "output_type": "execute_result"
    }
   ],
   "execution_count": 98
  },
  {
   "metadata": {
    "ExecuteTime": {
     "end_time": "2024-10-26T02:53:28.010257Z",
     "start_time": "2024-10-26T02:53:27.991588Z"
    }
   },
   "cell_type": "code",
   "source": "y_hat = hypothesis(X, theta)",
   "id": "f3a1b439dbe4f17e",
   "outputs": [],
   "execution_count": 99
  },
  {
   "metadata": {
    "ExecuteTime": {
     "end_time": "2024-10-26T02:53:28.193651Z",
     "start_time": "2024-10-26T02:53:28.038539Z"
    }
   },
   "cell_type": "code",
   "source": [
    "plt.scatter(X, y)\n",
    "plt.plot(X, y_hat, color='blue')\n",
    "plt.xlabel('Change in water level (x)')\n",
    "plt.ylabel('Water flowing out of the dam (y)')\n",
    "X.shape, y.shape"
   ],
   "id": "4bb984a8a2e1d5de",
   "outputs": [
    {
     "data": {
      "text/plain": [
       "((12, 1), (12,))"
      ]
     },
     "execution_count": 100,
     "metadata": {},
     "output_type": "execute_result"
    },
    {
     "data": {
      "text/plain": [
       "<Figure size 640x480 with 1 Axes>"
      ],
      "image/png": "[encoded data removed]"
     },
     "metadata": {},
     "output_type": "display_data"
    }
   ],
   "execution_count": 100
  }
 ],
 "metadata": {
  "kernelspec": {
   "display_name": "Python 3",
   "language": "python",
   "name": "python3"
  },
  "language_info": {
   "codemirror_mode": {
    "name": "ipython",
    "version": 2
   },
   "file_extension": ".py",
   "mimetype": "text/x-python",
   "name": "python",
   "nbconvert_exporter": "python",
   "pygments_lexer": "ipython2",
   "version": "2.7.6"
  }
 },
 "nbformat": 4,
 "nbformat_minor": 5
}
