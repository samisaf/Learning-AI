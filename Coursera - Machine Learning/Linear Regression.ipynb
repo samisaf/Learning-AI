{
 "cells": [
  {
   "metadata": {},
   "cell_type": "markdown",
   "source": [
    "# Linear Regression\n",
    "## Gradient Descent\n",
    "Below will fit the linear regression parameters $\\theta$ to our dataset using **gradient descent**.\n",
    "\n",
    "The objective of linear regression is to minimize the cost function:\n",
    "$$\n",
    "    J(\\theta) = \\frac{1}{2m} \\sum_{i=1}^{m} \\left( h_{\\theta}(x^{(i)}) - y^{(i)} \\right)^2\n",
    "$$\n",
    "where the hypothesis $ h_\\theta(x) $ is defined by the linear model:\n",
    "$$\n",
    "    h_{\\theta}(x) = \\theta^T x = \\theta_0 + \\theta_1 x_1\n",
    "$$\n",
    "\n",
    "Recall that the parameters of your model are the $ \\theta_j $ values. These are the values you will adjust in order to minimize the cost function $ J(\\theta) $. One common method to perform this optimization is the **batch gradient descent algorithm**. In batch gradient descent, the parameters are updated as follows for each iteration:\n",
    "\n",
    "$$\n",
    "\\theta_j := \\theta_j - \\alpha \\frac{1}{m} \\sum_{i=1}^{m} \\left( h_{\\theta}(x^{(i)}) - y^{(i)} \\right) x_j^{(i)}\n",
    "$$\n",
    "\n",
    "where:\n",
    "\n",
    "- $ \\alpha $ is the learning rate\n",
    "- $ m $ is the number of training examples\n",
    "- $ h_{\\theta}(x^{(i)}) $ is the predicted value for the $ i $-th training example\n",
    "- $ y^{(i)} $ is the actual target output for the $ i $-th training example\n",
    "- $ x_j^{(i)} $ denotes the feature $ j $ of the $ i $-th training example\n",
    "\n",
    "The iteration performs these updates for all $ \\theta_j $ (for $ j = 0, 1, \\ldots, n )$ simultaneously in each step until convergence.\n",
    "\n",
    "## Normal Equations\n",
    "The closed-form solution to linear regression is:\n",
    "$$ \\theta = (X^T X)^{-1} X^T \\vec{y}$$\n",
    "Using this formula does not require any feature scaling, and you get an exact solution in one calculation: there is no “loop until convergence” like in gradient descent.\n",
    "\n",
    "Remember that while you don’t need to scale your features, we still need to add a column of 1’s to the X matrix to have an intercept term ($θ_0$)."
   ],
   "id": "9ab03cbba507d196"
  },
  {
   "metadata": {
    "ExecuteTime": {
     "end_time": "2024-10-17T01:05:42.033006Z",
     "start_time": "2024-10-17T01:05:41.008974Z"
    }
   },
   "cell_type": "code",
   "source": [
    "import numpy as np\n",
    "import matplotlib.pyplot as plt\n",
    "import scipy.optimize\n",
    "import sklearn.linear_model"
   ],
   "id": "729d9dcf3450884a",
   "outputs": [],
   "execution_count": 1
  },
  {
   "metadata": {
    "ExecuteTime": {
     "end_time": "2024-10-17T01:05:42.037593Z",
     "start_time": "2024-10-17T01:05:42.034221Z"
    }
   },
   "cell_type": "code",
   "source": [
    "def J(X, y, activation=None):\n",
    "    \"\"\"\n",
    "    Compute the cost function and gradients for linear regression using Mean Squared Error (MSE).\n",
    "    \n",
    "    The function `J` takes as input the feature matrix `X` and target values `y`, and returns a pair of functions:\n",
    "    - hypothesis: This function computes the predictions for a given parameter vector `theta`\n",
    "    - cost: This function computes the cost (or objective) of the model for a given parameter vector `theta` using MSE.\n",
    "    - gradients: This function computes the gradient of the cost function with respect to the parameters `theta`.\n",
    "    \"\"\"\n",
    "    m = len(y)\n",
    "    ones = np.ones((m, 1))\n",
    "    X_padded = np.hstack((ones, X))\n",
    "    g = lambda z:z if activation is None else activation\n",
    "    \n",
    "    hypothesis = lambda theta:  g(X_padded @ np.array(theta))\n",
    "    cost = lambda theta: (0.5/m) * np.sum((hypothesis(theta) - y)**2)\n",
    "    gradients = lambda theta: (1 / m) * (hypothesis(theta) - y) @ X_padded\n",
    "    \n",
    "    return hypothesis, cost, gradients"
   ],
   "id": "1babfae955e24ac8",
   "outputs": [],
   "execution_count": 2
  },
  {
   "metadata": {
    "ExecuteTime": {
     "end_time": "2024-10-17T01:05:42.040927Z",
     "start_time": "2024-10-17T01:05:42.038410Z"
    }
   },
   "cell_type": "code",
   "source": [
    "def linear_reg1(X, y, theta0=None, learning_rate=0.01, iterations=1500):\n",
    "    \"\"\"\n",
    "    Perform linear regression using batch gradient descent to minimize \n",
    "    the cost function.\n",
    "    \n",
    "    This function fits a linear regression model to the input dataset \n",
    "    by iteratively adjusting the parameter vector `theta` using gradient descent.\n",
    "    \"\"\"\n",
    "    theta = np.zeros(X.shape[1]+1) if theta0 is None else theta0\n",
    "    hypothesis, cost, gradients = J(X, y)\n",
    "    for i in range(iterations):\n",
    "        theta -= learning_rate * gradients(theta)\n",
    "    return theta"
   ],
   "id": "9f01f3ba4418c216",
   "outputs": [],
   "execution_count": 3
  },
  {
   "metadata": {
    "ExecuteTime": {
     "end_time": "2024-10-17T01:05:42.044268Z",
     "start_time": "2024-10-17T01:05:42.041884Z"
    }
   },
   "cell_type": "code",
   "source": [
    "def linear_reg2(X, y, theta0=None):\n",
    "    \"\"\"\n",
    "    Perform linear regression using a numerical optimization algorithm (BFGS) to minimize the cost function.\n",
    "    \n",
    "    This function fits a linear regression model to the input dataset by finding the optimal parameter vector `theta` using the Broyden–Fletcher–Goldfarb–Shanno (BFGS) optimization algorithm.\n",
    "    \"\"\"\n",
    "    \n",
    "    if theta0 is None: theta0 = np.zeros(X.shape[1]+1)\n",
    "    predictions, cost, gradients = J(X, y)\n",
    "    result = scipy.optimize.minimize(fun=cost, jac=gradients, x0=theta0, method='BFGS')\n",
    "    return result"
   ],
   "id": "ac1b2d5fbbb8f103",
   "outputs": [],
   "execution_count": 4
  },
  {
   "metadata": {
    "ExecuteTime": {
     "end_time": "2024-10-17T01:05:42.047291Z",
     "start_time": "2024-10-17T01:05:42.045044Z"
    }
   },
   "cell_type": "code",
   "source": [
    "def linear_reg3(X, y, theta0=None):\n",
    "    \"\"\"\n",
    "    Perform linear regression using a numerical optimization algorithm (BFGS) to minimize the cost function.\n",
    "    \n",
    "    This function fits a linear regression model to the input dataset by finding the optimal parameter vector `theta` using the Broyden–Fletcher–Goldfarb–Shanno (BFGS) optimization algorithm. This version does not use the derivative (gradient)\n",
    "    \"\"\"\n",
    "\n",
    "    if theta0 is None: theta0 = np.zeros(X.shape[1]+1)\n",
    "    predictions, cost, gradients = J(X, y)\n",
    "    result = scipy.optimize.minimize(fun=cost, x0=theta0, method='BFGS')\n",
    "    return result"
   ],
   "id": "a66cdb2c48aad940",
   "outputs": [],
   "execution_count": 5
  },
  {
   "metadata": {
    "ExecuteTime": {
     "end_time": "2024-10-17T01:05:42.050407Z",
     "start_time": "2024-10-17T01:05:42.047948Z"
    }
   },
   "cell_type": "code",
   "source": [
    "def linear_reg4(X, y, theta0=None):\n",
    "    \"\"\"\n",
    "    Fits a linear regression model to the input data by directly computing the optimal parameter vector `theta` using \n",
    "    the Normal Equation: theta = (X^T * X)^(-1) * X^T * y\n",
    "    \"\"\"\n",
    "    theta = np.zeros(X.shape[1]+1) if theta0 is None else theta0\n",
    "    ones = np.ones((len(X), 1))\n",
    "    X_padded = np.hstack((ones, X))\n",
    "    term1 = np.linalg.inv(X_padded.T.dot(X_padded))\n",
    "    term2 = X_padded.T.dot(y)\n",
    "    return term1 @ term2"
   ],
   "id": "4522d9346fa84c9c",
   "outputs": [],
   "execution_count": 6
  },
  {
   "metadata": {
    "ExecuteTime": {
     "end_time": "2024-10-17T01:05:42.053508Z",
     "start_time": "2024-10-17T01:05:42.051353Z"
    }
   },
   "cell_type": "code",
   "source": [
    "def linear_reg5(X, y):\n",
    "    model = sklearn.linear_model.LinearRegression()\n",
    "    model.fit(X, y)\n",
    "    return model.intercept_, model.coef_"
   ],
   "id": "cfc2b8b7b9bbef09",
   "outputs": [],
   "execution_count": 7
  },
  {
   "metadata": {
    "ExecuteTime": {
     "end_time": "2024-10-17T01:05:42.056869Z",
     "start_time": "2024-10-17T01:05:42.054448Z"
    }
   },
   "cell_type": "code",
   "source": [
    "def plotData(X, y, theta=None, title=\"\"):\n",
    "    plt.scatter(X, y)\n",
    "    if theta is not None:\n",
    "        ones = np.ones((len(X), 1))\n",
    "        X_padded = np.hstack((ones, X))\n",
    "        hypothesis = X_padded @ np.array(theta)\n",
    "        plt.plot(X, hypothesis, color='red')\n",
    "    plt.title(title)\n",
    "    plt.show()"
   ],
   "id": "c041b9d2a611e2ea",
   "outputs": [],
   "execution_count": 8
  },
  {
   "metadata": {},
   "cell_type": "markdown",
   "source": "## Linear Regression with one variable",
   "id": "989f5f1334821c97"
  },
  {
   "metadata": {
    "collapsed": true,
    "ExecuteTime": {
     "end_time": "2024-10-17T01:05:42.063129Z",
     "start_time": "2024-10-17T01:05:42.059779Z"
    }
   },
   "cell_type": "code",
   "source": [
    "ex1datatxt=\"6.1101,17.592;5.5277,9.1302;8.5186,13.662;7.0032,11.854;5.8598,6.8233;8.3829,11.886;7.4764,4.3483;8.5781,12;6.4862,6.5987;5.0546,3.8166;5.7107,3.2522;14.164,15.505;5.734,3.1551;8.4084,7.2258;5.6407,0.71618;5.3794,3.5129;6.3654,5.3048;5.1301,0.56077;6.4296,3.6518;7.0708,5.3893;6.1891,3.1386;20.27,21.767;5.4901,4.263;6.3261,5.1875;5.5649,3.0825;18.945,22.638;12.828,13.501;10.957,7.0467;13.176,14.692;22.203,24.147;5.2524,-1.22;6.5894,5.9966;9.2482,12.134;5.8918,1.8495;8.2111,6.5426;7.9334,4.5623;8.0959,4.1164;5.6063,3.3928;12.836,10.117;6.3534,5.4974;5.4069,0.55657;6.8825,3.9115;11.708,5.3854;5.7737,2.4406;7.8247,6.7318;7.0931,1.0463;5.0702,5.1337;5.8014,1.844;11.7,8.0043;5.5416,1.0179;7.5402,6.7504;5.3077,1.8396;7.4239,4.2885;7.6031,4.9981;6.3328,1.4233;6.3589,-1.4211;6.2742,2.4756;5.6397,4.6042;9.3102,3.9624;9.4536,5.4141;8.8254,5.1694;5.1793,-0.74279;21.279,17.929;14.908,12.054;18.959,17.054;7.2182,4.8852;8.2951,5.7442;10.236,7.7754;5.4994,1.0173;20.341,20.992;10.136,6.6799;7.3345,4.0259;6.0062,1.2784;7.2259,3.3411;5.0269,-2.6807;6.5479,0.29678;7.5386,3.8845;5.0365,5.7014;10.274,6.7526;5.1077,2.0576;5.7292,0.47953;5.1884,0.20421;6.3557,0.67861;9.7687,7.5435;6.5159,5.3436;8.5172,4.2415;9.1802,6.7981;6.002,0.92695;5.5204,0.152;5.0594,2.8214;5.7077,1.8451;7.6366,4.2959;5.8707,7.2029;5.3054,1.9869;8.2934,0.14454;13.394,9.0551;5.4369,0.61705\"\n",
    "ex1data = np.mat(ex1datatxt)\n",
    "X1 = np.array(ex1data[:, 0]) # x refers to the population size in 10,000s\n",
    "y1 = np.array(ex1data[:, 1]).flatten() # y refers to the profit in $10,000s\n",
    "print(X1[0:3])\n",
    "print(y1[0:3])"
   ],
   "id": "initial_id",
   "outputs": [
    {
     "name": "stdout",
     "output_type": "stream",
     "text": [
      "[[6.1101]\n",
      " [5.5277]\n",
      " [8.5186]]\n",
      "[17.592   9.1302 13.662 ]\n"
     ]
    }
   ],
   "execution_count": 9
  },
  {
   "metadata": {
    "ExecuteTime": {
     "end_time": "2024-10-17T01:05:42.080329Z",
     "start_time": "2024-10-17T01:05:42.066238Z"
    }
   },
   "cell_type": "code",
   "source": "linear_reg1(X1, y1)",
   "id": "7b7b18ebacf47103",
   "outputs": [
    {
     "data": {
      "text/plain": [
       "array([-3.63029144,  1.16636235])"
      ]
     },
     "execution_count": 10,
     "metadata": {},
     "output_type": "execute_result"
    }
   ],
   "execution_count": 10
  },
  {
   "metadata": {
    "ExecuteTime": {
     "end_time": "2024-10-17T01:05:42.084582Z",
     "start_time": "2024-10-17T01:05:42.081072Z"
    }
   },
   "cell_type": "code",
   "source": "linear_reg2(X1, y1)",
   "id": "8ff16425bbbe6a27",
   "outputs": [
    {
     "data": {
      "text/plain": [
       "  message: Optimization terminated successfully.\n",
       "  success: True\n",
       "   status: 0\n",
       "      fun: 4.4769713759803995\n",
       "        x: [-3.896e+00  1.193e+00]\n",
       "      nit: 8\n",
       "      jac: [-4.054e-07  9.034e-06]\n",
       " hess_inv: [[ 5.348e+00 -5.338e-01]\n",
       "            [-5.338e-01  6.553e-02]]\n",
       "     nfev: 9\n",
       "     njev: 9"
      ]
     },
     "execution_count": 11,
     "metadata": {},
     "output_type": "execute_result"
    }
   ],
   "execution_count": 11
  },
  {
   "metadata": {
    "ExecuteTime": {
     "end_time": "2024-10-17T01:05:42.089486Z",
     "start_time": "2024-10-17T01:05:42.085246Z"
    }
   },
   "cell_type": "code",
   "source": "linear_reg3(X1, y1)",
   "id": "2a083f12b0496a21",
   "outputs": [
    {
     "data": {
      "text/plain": [
       "  message: Optimization terminated successfully.\n",
       "  success: True\n",
       "   status: 0\n",
       "      fun: 4.476971375980298\n",
       "        x: [-3.896e+00  1.193e+00]\n",
       "      nit: 8\n",
       "      jac: [-4.768e-07  9.000e-06]\n",
       " hess_inv: [[ 5.348e+00 -5.338e-01]\n",
       "            [-5.338e-01  6.553e-02]]\n",
       "     nfev: 27\n",
       "     njev: 9"
      ]
     },
     "execution_count": 12,
     "metadata": {},
     "output_type": "execute_result"
    }
   ],
   "execution_count": 12
  },
  {
   "metadata": {
    "ExecuteTime": {
     "end_time": "2024-10-17T01:05:42.093307Z",
     "start_time": "2024-10-17T01:05:42.090376Z"
    }
   },
   "cell_type": "code",
   "source": "linear_reg4(X1, y1)",
   "id": "89ff298725f6c3d",
   "outputs": [
    {
     "data": {
      "text/plain": [
       "array([-3.89578088,  1.19303364])"
      ]
     },
     "execution_count": 13,
     "metadata": {},
     "output_type": "execute_result"
    }
   ],
   "execution_count": 13
  },
  {
   "metadata": {
    "ExecuteTime": {
     "end_time": "2024-10-17T01:05:42.096855Z",
     "start_time": "2024-10-17T01:05:42.094006Z"
    }
   },
   "cell_type": "code",
   "source": "linear_reg5(X1, y1)",
   "id": "b833292c7e2f9b08",
   "outputs": [
    {
     "data": {
      "text/plain": [
       "(-3.8957808783118537, array([1.19303364]))"
      ]
     },
     "execution_count": 14,
     "metadata": {},
     "output_type": "execute_result"
    }
   ],
   "execution_count": 14
  },
  {
   "metadata": {
    "ExecuteTime": {
     "end_time": "2024-10-17T01:05:42.212830Z",
     "start_time": "2024-10-17T01:05:42.097453Z"
    }
   },
   "cell_type": "code",
   "source": "plotData(X1, y1, linear_reg1(X1, y1))",
   "id": "888dbbe1ab081a8",
   "outputs": [
    {
     "data": {
      "text/plain": [
       "<Figure size 640x480 with 1 Axes>"
      ],
      "image/png": "[encoded data removed]"
     },
     "metadata": {},
     "output_type": "display_data"
    }
   ],
   "execution_count": 15
  },
  {
   "metadata": {},
   "cell_type": "markdown",
   "source": "## Linear Regression with more than one variable",
   "id": "accd90820775157c"
  },
  {
   "metadata": {
    "ExecuteTime": {
     "end_time": "2024-10-17T01:05:42.216598Z",
     "start_time": "2024-10-17T01:05:42.213608Z"
    }
   },
   "cell_type": "code",
   "source": [
    "ex2datatxt = \"2104,3,399900;1600,3,329900;2400,3,369000;1416,2,232000;3000,4,539900;1985,4,299900;1534,3,314900;1427,3,198999;1380,3,212000;1494,3,242500;1940,4,239999;2000,3,347000;1890,3,329999;4478,5,699900;1268,3,259900;2300,4,449900;1320,2,299900;1236,3,199900;2609,4,499998;3031,4,599000;1767,3,252900;1888,2,255000;1604,3,242900;1962,4,259900;3890,3,573900;1100,3,249900;1458,3,464500;2526,3,469000;2200,3,475000;2637,3,299900;1839,2,349900;1000,1,169900;2040,4,314900;3137,3,579900;1811,4,285900;1437,3,249900;1239,3,229900;2132,4,345000;4215,4,549000;2162,4,287000;1664,2,368500;2238,3,329900;2567,4,314000;1200,3,299000;852,2,179900;1852,4,299900;1203,3,239500\"\n",
    "ex2data = np.mat(ex2datatxt)\n",
    "X2 = np.array(ex2data[:, 0:-1])\n",
    "y2 = np.array(ex2data[:, -1]).flatten()\n",
    "print(X2[0:3])\n",
    "print(y2[0:3])"
   ],
   "id": "861b43cbf3750db1",
   "outputs": [
    {
     "name": "stdout",
     "output_type": "stream",
     "text": [
      "[[2104    3]\n",
      " [1600    3]\n",
      " [2400    3]]\n",
      "[399900 329900 369000]\n"
     ]
    }
   ],
   "execution_count": 16
  },
  {
   "metadata": {
    "ExecuteTime": {
     "end_time": "2024-10-17T01:05:42.220607Z",
     "start_time": "2024-10-17T01:05:42.217296Z"
    }
   },
   "cell_type": "code",
   "source": [
    "# TODO: This function call does not converge\n",
    "linear_reg1(X2, y2, iterations=60)"
   ],
   "id": "f9f1a97eb7a6a252",
   "outputs": [
    {
     "data": {
      "text/plain": [
       "array([-5.46625520e+278, -1.26250402e+282, -1.82347442e+279])"
      ]
     },
     "execution_count": 17,
     "metadata": {},
     "output_type": "execute_result"
    }
   ],
   "execution_count": 17
  },
  {
   "metadata": {
    "ExecuteTime": {
     "end_time": "2024-10-17T01:05:42.227614Z",
     "start_time": "2024-10-17T01:05:42.221567Z"
    }
   },
   "cell_type": "code",
   "source": "linear_reg2(X2, y2)",
   "id": "248800de70e658e3",
   "outputs": [
    {
     "data": {
      "text/plain": [
       "  message: Desired error not necessarily achieved due to precision loss.\n",
       "  success: False\n",
       "   status: 2\n",
       "      fun: 2043280050.602828\n",
       "        x: [ 8.960e+04  1.392e+02 -8.738e+03]\n",
       "      nit: 8\n",
       "      jac: [ 4.540e-05  9.938e-02  1.504e-04]\n",
       " hess_inv: [[ 1.878e+01 -3.463e-04 -5.391e+00]\n",
       "            [-3.463e-04  2.357e-06 -1.378e-03]\n",
       "            [-5.391e+00 -1.378e-03  2.570e+00]]\n",
       "     nfev: 51\n",
       "     njev: 39"
      ]
     },
     "execution_count": 18,
     "metadata": {},
     "output_type": "execute_result"
    }
   ],
   "execution_count": 18
  },
  {
   "metadata": {
    "ExecuteTime": {
     "end_time": "2024-10-17T01:05:42.240607Z",
     "start_time": "2024-10-17T01:05:42.228512Z"
    }
   },
   "cell_type": "code",
   "source": "linear_reg3(X2, y2)",
   "id": "477d5a7cdb293cbf",
   "outputs": [
    {
     "data": {
      "text/plain": [
       "  message: Desired error not necessarily achieved due to precision loss.\n",
       "  success: False\n",
       "   status: 2\n",
       "      fun: 2043296679.0206668\n",
       "        x: [ 9.033e+04  1.393e+02 -9.010e+03]\n",
       "      nit: 12\n",
       "      jac: [-4.800e+01 -6.022e+04 -1.760e+02]\n",
       " hess_inv: [[ 1.100e+02 -5.319e-02  6.293e-01]\n",
       "            [-5.319e-02  2.617e-05 -5.313e-04]\n",
       "            [ 6.293e-01 -5.313e-04  1.641e-01]]\n",
       "     nfev: 260\n",
       "     njev: 62"
      ]
     },
     "execution_count": 19,
     "metadata": {},
     "output_type": "execute_result"
    }
   ],
   "execution_count": 19
  },
  {
   "metadata": {
    "ExecuteTime": {
     "end_time": "2024-10-17T01:05:42.244011Z",
     "start_time": "2024-10-17T01:05:42.241372Z"
    }
   },
   "cell_type": "code",
   "source": "linear_reg4(X2, y2)",
   "id": "a593153415dabb57",
   "outputs": [
    {
     "data": {
      "text/plain": [
       "array([89597.9095428 ,   139.21067402, -8738.01911233])"
      ]
     },
     "execution_count": 20,
     "metadata": {},
     "output_type": "execute_result"
    }
   ],
   "execution_count": 20
  },
  {
   "metadata": {
    "ExecuteTime": {
     "end_time": "2024-10-17T01:05:42.247726Z",
     "start_time": "2024-10-17T01:05:42.244750Z"
    }
   },
   "cell_type": "code",
   "source": "linear_reg5(X2, y2)",
   "id": "25f812fde84083e4",
   "outputs": [
    {
     "data": {
      "text/plain": [
       "(89597.90954279734, array([  139.21067402, -8738.01911233]))"
      ]
     },
     "execution_count": 21,
     "metadata": {},
     "output_type": "execute_result"
    }
   ],
   "execution_count": 21
  }
 ],
 "metadata": {
  "kernelspec": {
   "display_name": "Python 3",
   "language": "python",
   "name": "python3"
  },
  "language_info": {
   "codemirror_mode": {
    "name": "ipython",
    "version": 2
   },
   "file_extension": ".py",
   "mimetype": "text/x-python",
   "name": "python",
   "nbconvert_exporter": "python",
   "pygments_lexer": "ipython2",
   "version": "2.7.6"
  }
 },
 "nbformat": 4,
 "nbformat_minor": 5
}
