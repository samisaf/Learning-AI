{
 "cells": [
  {
   "metadata": {},
   "cell_type": "markdown",
   "source": [
    "# K-means Clustering and Principal Component\n",
    "In this exercise, we implement the K-means clustering algorithm and\n",
    "apply it to compress an image. In the second part, we use principal\n",
    "component analysis to find a low-dimensional representation of face images.\n",
    "\n",
    "## K-means Clustering\n",
    "In this exercise, we implement the K-means algorithm and use it\n",
    "for image compression. We first start on an example 2D dataset that \n",
    "will help us gain an intuition of how the K-means algorithm works. After\n",
    "that, we use the K-means algorithm for image compression by reducing\n",
    "the number of colors that occur in an image to only those that are most\n",
    "common in that image.\n",
    "\n",
    "The K-means algorithm is a method to automatically cluster similar data examples together. Concretely, you are given a training set {x(1) , ..., x(m) } (where x(i) ∈ Rⁿ), and want to group the data into a few cohesive “clusters”.\n",
    "\n",
    "The intuition behind K-means is an iterative procedure that starts by guessing the initial centroids, and then refines this guess by repeatedly assigning examples to their closest centroids and then recomputing the centroids based on the assignments.\n",
    "\n",
    "The K-means algorithm is as follows:\n",
    "\n",
    "```\n",
    "% Initialize centroids\n",
    "centroids = kMeansInitCentroids(X, K);\n",
    "for iter = 1:iterations\n",
    "    % Cluster assignment step: Assign each data point to the\n",
    "    % closest centroid. idx(i) corresponds to cˆ(i), the index\n",
    "    % of the centroid assigned to example i\n",
    "    idx = findClosestCentroids(X, centroids);\n",
    "    % Move centroid step: Compute means based on centroid\n",
    "    % assignments\n",
    "    centroids = computeMeans(X, idx, K);\n",
    "end\n",
    "```\n",
    "\n",
    "The inner-loop of the algorithm repeatedly carries out two steps: \n",
    "- (i) Assigning each training example x(i) to its closest centroid, and \n",
    "- (ii) Recomputing the mean of each centroid using the points assigned to it. \n",
    "\n",
    "The K-means algorithm will always converge to some final set of means for the centroids.\n",
    "Note that the converged solution may not always be ideal and depends on the\n",
    "initial setting of the centroids. Therefore, in practice the K-means algorithm\n",
    "is usually run a few times with different random initializations. One way to\n",
    "choose between these different solutions from different random initializations\n",
    "is to choose the one with the lowest cost function value (distortion).\n",
    "\n",
    "We implement the two phases of the K-means algorithm separately\n",
    "in the next sections.\n",
    "\n",
    "### Finding closest centroids\n",
    "\n",
    "In the “cluster assignment” phase of the K-means algorithm, the algorithm assigns every training example $x^{(i)}$ to its closest centroid, given the current positions of centroids. Specifically, for every example $i$ we set\n",
    "\n",
    "$$c^{(i)} := j \\quad \\text{that minimizes} \\quad \\lvert\\rvert x^{(i)} - \\mu_j  \\lvert\\rvert^2, $$\n",
    "\n",
    "where $c^{(i)}$ is the index of the centroid that is closest to $x^{(i)}$, and $\\mu_j$ is the position (value) of the $j^{th}$ centroid. Note that $c^{(i)}$ corresponds to `idx[i]` in the starter code.\n",
    "\n",
    "The code in the function `findClosestCentroids` takes the data matrix `X` and the locations of all centroids inside `centroids` and should output a one-dimensional array `idx` that holds the index (a value in $\\{1, ..., K\\}$, where $K$ is total number of centroids) of the closest centroid to every training example.\n",
    "\n",
    "We implement this using a loop over every training example and every centroid."
   ],
   "id": "e95facd824997e80"
  },
  {
   "metadata": {
    "ExecuteTime": {
     "end_time": "2024-10-28T02:26:52.165131Z",
     "start_time": "2024-10-28T02:26:51.165412Z"
    }
   },
   "cell_type": "code",
   "source": [
    "import numpy as np\n",
    "import matplotlib.pyplot as plt\n",
    "import scipy\n",
    "plt.style.use('ggplot')"
   ],
   "id": "730f3264727573ae",
   "outputs": [],
   "execution_count": 1
  },
  {
   "metadata": {
    "ExecuteTime": {
     "end_time": "2024-10-28T02:29:07.152666Z",
     "start_time": "2024-10-28T02:29:06.993907Z"
    }
   },
   "cell_type": "code",
   "source": [
    "data1 = scipy.io.loadmat('./data/ex7data1.mat')\n",
    "X1 = data1['X']\n",
    "data2 = scipy.io.loadmat('./data/ex7data2.mat')\n",
    "X2 = data2['X']\n",
    "\n",
    "plt.scatter(X2[:, 0], X2[:, 1])"
   ],
   "id": "d2dd8885d2c62641",
   "outputs": [
    {
     "data": {
      "text/plain": [
       "<matplotlib.collections.PathCollection at 0x79d1cc1b6a20>"
      ]
     },
     "execution_count": 10,
     "metadata": {},
     "output_type": "execute_result"
    },
    {
     "data": {
      "text/plain": [
       "<Figure size 640x480 with 1 Axes>"
      ],
      "image/png": "[encoded data removed]"
     },
     "metadata": {},
     "output_type": "display_data"
    }
   ],
   "execution_count": 10
  },
  {
   "metadata": {},
   "cell_type": "code",
   "outputs": [],
   "execution_count": null,
   "source": [
    "def findClosestCentroids(X, centroids):\n",
    "    pass"
   ],
   "id": "b6c53465f76360c8"
  },
  {
   "metadata": {
    "ExecuteTime": {
     "end_time": "2024-10-28T02:32:02.677316Z",
     "start_time": "2024-10-28T02:32:02.646945Z"
    }
   },
   "cell_type": "code",
   "source": [
    "\n",
    "# Select an initial set of centroids\n",
    "K = 3   # 3 Centroids\n",
    "initial_centroids = np.array([[3, 3], [6, 2], [8, 5]])\n",
    "\n",
    "# Find the closest centroids for the examples using the initial_centroids\n",
    "idx = findClosestCentroids(X2, initial_centroids)\n",
    "\n",
    "print('Closest centroids for the first 3 examples:')\n",
    "print(idx[:3])\n",
    "print('(the closest centroids should be 0, 2, 1 respectively)')\n",
    "\n",
    "\"\"\"\n",
    "Closest centroids for the first 3 examples:\n",
    "[0 2 1]\n",
    "(the closest centroids should be 0, 2, 1 respectively)\"\"\""
   ],
   "id": "2b4a145200a2a70a",
   "outputs": [
    {
     "ename": "NameError",
     "evalue": "name 'findClosestCentroids' is not defined",
     "output_type": "error",
     "traceback": [
      "\u001B[0;31m---------------------------------------------------------------------------\u001B[0m",
      "\u001B[0;31mNameError\u001B[0m                                 Traceback (most recent call last)",
      "Cell \u001B[0;32mIn[12], line 6\u001B[0m\n\u001B[1;32m      3\u001B[0m initial_centroids \u001B[38;5;241m=\u001B[39m np\u001B[38;5;241m.\u001B[39marray([[\u001B[38;5;241m3\u001B[39m, \u001B[38;5;241m3\u001B[39m], [\u001B[38;5;241m6\u001B[39m, \u001B[38;5;241m2\u001B[39m], [\u001B[38;5;241m8\u001B[39m, \u001B[38;5;241m5\u001B[39m]])\n\u001B[1;32m      5\u001B[0m \u001B[38;5;66;03m# Find the closest centroids for the examples using the initial_centroids\u001B[39;00m\n\u001B[0;32m----> 6\u001B[0m idx \u001B[38;5;241m=\u001B[39m findClosestCentroids(X, initial_centroids)\n\u001B[1;32m      8\u001B[0m \u001B[38;5;28mprint\u001B[39m(\u001B[38;5;124m'\u001B[39m\u001B[38;5;124mClosest centroids for the first 3 examples:\u001B[39m\u001B[38;5;124m'\u001B[39m)\n\u001B[1;32m      9\u001B[0m \u001B[38;5;28mprint\u001B[39m(idx[:\u001B[38;5;241m3\u001B[39m])\n",
      "\u001B[0;31mNameError\u001B[0m: name 'findClosestCentroids' is not defined"
     ]
    }
   ],
   "execution_count": 12
  },
  {
   "metadata": {},
   "cell_type": "code",
   "outputs": [],
   "execution_count": null,
   "source": "",
   "id": "efd850aa73877a4b"
  }
 ],
 "metadata": {
  "kernelspec": {
   "display_name": "Python 3",
   "language": "python",
   "name": "python3"
  },
  "language_info": {
   "codemirror_mode": {
    "name": "ipython",
    "version": 2
   },
   "file_extension": ".py",
   "mimetype": "text/x-python",
   "name": "python",
   "nbconvert_exporter": "python",
   "pygments_lexer": "ipython2",
   "version": "2.7.6"
  }
 },
 "nbformat": 4,
 "nbformat_minor": 5
}
