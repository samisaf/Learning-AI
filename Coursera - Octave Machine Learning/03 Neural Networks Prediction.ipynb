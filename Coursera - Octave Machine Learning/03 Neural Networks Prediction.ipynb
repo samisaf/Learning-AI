{
 "cells": [
  {
   "cell_type": "markdown",
   "id": "cc203ee24906de2",
   "metadata": {},
   "source": [
    "# Neural Networks\n",
    "In this exercise, we implement a neural network to recognize handwritten digits using the MNIST training set. \n",
    "The neural network will be able to represent complex models that form non-linear hypotheses. \n",
    "For this week, we will be using parameters from a neural network that we have already trained. \n",
    "The goal is to implement the feedforward propagation algorithm to use our weights for prediction."
   ]
  },
  {
   "cell_type": "code",
   "execution_count": 2,
   "id": "4d254fed0df35200",
   "metadata": {
    "ExecuteTime": {
     "end_time": "2024-10-24T15:27:16.446272Z",
     "start_time": "2024-10-24T15:27:16.442816Z"
    }
   },
   "outputs": [],
   "source": [
    "import numpy as np\n",
    "import matplotlib.pyplot as plt\n",
    "import scipy"
   ]
  },
  {
   "cell_type": "code",
   "execution_count": 3,
   "id": "9a164da1629668d6",
   "metadata": {
    "ExecuteTime": {
     "end_time": "2024-10-24T15:27:16.528543Z",
     "start_time": "2024-10-24T15:27:16.463150Z"
    }
   },
   "outputs": [
    {
     "data": {
      "text/plain": [
       "((5000, 400), (5000,))"
      ]
     },
     "execution_count": 3,
     "metadata": {},
     "output_type": "execute_result"
    }
   ],
   "source": [
    "data1 = scipy.io.loadmat('./data/ex3data1.mat')\n",
    "X1 = data1['X']\n",
    "y1 = data1['y']\n",
    "y1 = y1.T[0]      # Convert vertical vector to horizontal array\n",
    "X1.shape, y1.shape"
   ]
  },
  {
   "cell_type": "markdown",
   "id": "276d73a4467c2dd9",
   "metadata": {},
   "source": [
    "## Model representation\n",
    "This neural network has 3 layers – an input layer, a hidden layer and an output layer. \n",
    "Recall that our inputs are pixel values of digit images. Since the images are of size 20×20, this gives us 400 input layer units (excluding the extra bias unit which always outputs +1). \n",
    "\n",
    "We have been provided with a set of network parameters (Θ(1) ,Θ(2))\n",
    "already trained by us. These are stored in `ex3weights.mat` and will be\n",
    "loaded into `Theta1` and `Theta2`.\n",
    " \n",
    "The parameters have dimensions that are sized for a neural network with 25 units in the second \n",
    "layer and 10 output units (corresponding to the 10 digit classes).\n",
    "\n",
    "![Neural Network Model](./data/neuralnetwork.png)"
   ]
  },
  {
   "cell_type": "code",
   "execution_count": 4,
   "id": "fb27079c8e27143f",
   "metadata": {
    "ExecuteTime": {
     "end_time": "2024-10-24T15:27:16.540273Z",
     "start_time": "2024-10-24T15:27:16.536160Z"
    }
   },
   "outputs": [
    {
     "data": {
      "text/plain": [
       "((25, 401), (10, 26))"
      ]
     },
     "execution_count": 4,
     "metadata": {},
     "output_type": "execute_result"
    }
   ],
   "source": [
    "weights = scipy.io.loadmat('./data/ex3weights.mat')\n",
    "Theta1 = weights['Theta1']\n",
    "Theta2 = weights['Theta2']\n",
    "Theta1.shape, Theta2.shape"
   ]
  },
  {
   "cell_type": "markdown",
   "id": "4ea818d0751a4baa",
   "metadata": {},
   "source": [
    "## Feedforward Propagation and Prediction\n",
    "Now we implement feedforward propagation for the neural network. \n",
    "The code in `predict` returns the neural network’s prediction.\n",
    "\n",
    "We implement the feedforward computation that computes $ (h_\\theta(x^{(i)}) )$ for every example $( i)$ and returns the associated predictions. Similar to the one-vs-all classification strategy, the prediction from the neural network will be the label that has the largest output, $( (h_\\theta(x))_k )$. \n",
    "\n",
    "Finally, we call  `predict` function using the loaded set of parameters for `Theta1` and `Theta2` on all the data, and we calculate the accurasy of the model. We should see that the accuracy is about 97.5%. "
   ]
  },
  {
   "cell_type": "code",
   "execution_count": 5,
   "id": "5000fe35d089162e",
   "metadata": {
    "ExecuteTime": {
     "end_time": "2024-10-24T15:27:16.558449Z",
     "start_time": "2024-10-24T15:27:16.556523Z"
    }
   },
   "outputs": [],
   "source": [
    "def activation(x, Theta):\n",
    "    return 1 / (1 + np.exp(-Theta @ x))\n",
    "\n",
    "def predict(x, Thetas=[Theta1, Theta2]):\n",
    "    layer = x\n",
    "    for Theta in Thetas:\n",
    "        layer = np.hstack((1.0, layer.copy()))\n",
    "        layer = activation(layer, Theta)\n",
    "    return layer"
   ]
  },
  {
   "cell_type": "code",
   "execution_count": 6,
   "id": "ba10ac980c10420e",
   "metadata": {
    "ExecuteTime": {
     "end_time": "2024-10-24T15:33:05.495992Z",
     "start_time": "2024-10-24T15:33:05.482081Z"
    }
   },
   "outputs": [
    {
     "name": "stdout",
     "output_type": "stream",
     "text": [
      "[3.85613838e-04 9.68544083e-01 1.92134752e-03 1.38526834e-04\n",
      " 3.20810992e-03 7.01713717e-04 6.45235792e-04 1.66993752e-02\n",
      " 1.00700486e-01 3.25396474e-03]\n",
      "[0. 1. 0. 0. 0. 0. 0. 0. 0. 0.]\n"
     ]
    },
    {
     "data": {
      "text/plain": [
       "(2, 2)"
      ]
     },
     "execution_count": 6,
     "metadata": {},
     "output_type": "execute_result"
    }
   ],
   "source": [
    "n = 1000 # let's predict the 1000th element\n",
    "print(predict(X1[n]))\n",
    "print(np.round(predict(X1[n])))\n",
    "y1[n], np.argmax(predict(X1[n])) + 1"
   ]
  },
  {
   "cell_type": "code",
   "execution_count": 7,
   "id": "73903eb7d39a0341",
   "metadata": {
    "ExecuteTime": {
     "end_time": "2024-10-24T15:27:16.789793Z",
     "start_time": "2024-10-24T15:27:16.646649Z"
    }
   },
   "outputs": [],
   "source": [
    "# Note that the NN is trained with 1 indexing, and zero digit mapping to 10\n",
    "# Hence need to add one to our predicted indices\n",
    "y_true = y1\n",
    "y_hat = np.array([np.argmax(predict(X1[i]))+1 for i in range(len(X1))])"
   ]
  },
  {
   "cell_type": "code",
   "execution_count": 8,
   "id": "9faa075c41ce1993",
   "metadata": {
    "ExecuteTime": {
     "end_time": "2024-10-24T15:27:16.808707Z",
     "start_time": "2024-10-24T15:27:16.801208Z"
    }
   },
   "outputs": [
    {
     "data": {
      "text/plain": [
       "0.9752"
      ]
     },
     "execution_count": 8,
     "metadata": {},
     "output_type": "execute_result"
    }
   ],
   "source": [
    "accuracy = sum(y_hat == y_true) / len(y_true)\n",
    "accuracy"
   ]
  }
 ],
 "metadata": {
  "kernelspec": {
   "display_name": "base",
   "language": "python",
   "name": "python3"
  },
  "language_info": {
   "codemirror_mode": {
    "name": "ipython",
    "version": 3
   },
   "file_extension": ".py",
   "mimetype": "text/x-python",
   "name": "python",
   "nbconvert_exporter": "python",
   "pygments_lexer": "ipython3",
   "version": "3.12.4"
  }
 },
 "nbformat": 4,
 "nbformat_minor": 5
}
