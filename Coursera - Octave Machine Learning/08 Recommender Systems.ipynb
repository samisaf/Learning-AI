{
 "cells": [
  {
   "cell_type": "markdown",
   "metadata": {},
   "source": [
    "# Recommender Systems\n",
    "\n",
    "In this part of the exercise, we implement the collaborative filtering learning algorithm and apply it to a dataset of movie ratings. \n",
    "[MovieLens 100k Dataset from GroupLens Research](http://grouplens.org/datasets/movielens)\n",
    "This dataset consists of ratings on a scale of 1 to 5. The dataset has $ n_u = 943 $ users, and $ n_m = 1682 $ movies. \n",
    "\n",
    "In the next parts of this exercise, we will implement the function `cofiCostFunc` that computes the collaborative filtering objective function \n",
    "and gradient. After implementing the cost function and gradient, we will use `scipy.minimize` to learn the parameters for collaborative filtering.\n",
    "\n",
    "## Movie ratings dataset\n",
    "First, we load the dataset `ex8_movies.mat`, providing the variables `Y` and `R`. \n",
    "\n",
    "- The matrix $Y$ is a $(num_{movies} \\times num_{users} \\space)$ matrix that stores the ratings $ y(i,j) $ (from 1 to 5).\n",
    "- The matrix $ R $ is a binary-valued indicator matrix, where $ R(i,j) = 1 $ if user $ j $ gave a rating to movie $ i $, and $ R(i,j) = 0 $ otherwise.\n",
    "\n",
    "The objective of collaborative filtering is to predict movie ratings for the movies that users have not yet rated, that is, \n",
    "the entries with $ R(i,j) = 0 $. This will allow us to recommend the movies with the highest predicted ratings to the user.\n",
    "\n",
    "To help you understand the matrix $ Y $, the script `ex8_cofi` will compute the average movie rating for the first movie (Toy Story) \n",
    "and output the average rating to the screen.\n",
    "\n",
    "Throughout this part of the exercise, you will also be working with the matrices, $ X $ and $ \\Theta $:\n",
    "\n",
    "$$\n",
    "X = \n",
    "\\begin{bmatrix}\n",
    "(x^{(1)})^T \\\\\n",
    "(x^{(2)})^T \\\\\n",
    "\\vdots \\\\\n",
    "(x^{(n_m)})^T \\\\\n",
    "\\end{bmatrix}, \\quad \n",
    "\\Theta = \n",
    "\\begin{bmatrix}\n",
    "(\\theta^{(1)})^T \\\\\n",
    "(\\theta^{(2)})^T \\\\\n",
    "\\vdots \\\\\n",
    "(\\theta^{(n_u)})^T \\\\\n",
    "\\end{bmatrix}.\n",
    "$$\n",
    "\n",
    "The $ i $-th row of $ X $ corresponds to the feature vector $ x^{(i)} $ for the $ i $-th movie, and the $ j $-th row of $ \\Theta $ corresponds to one parameter vector $ \\theta^{(j)} $ for the $ j $-th user. Both $ x^{(i)} $ and $ \\theta^{(j)} $ are $ n $-dimensional vectors. \n",
    "\n",
    "For the purposes of this exercise, you will use $ n = 100 $, and therefore, $ x^{(i)} \\in \\mathbb{R}^{100} $ and $ \\theta^{(j)} \\in \\mathbb{R}^{100} $. Correspondingly, $ X $ is a $ n_m \\times 100 $ matrix and $ \\Theta $ is a $ n_u \\times 100 $ matrix.\n"
   ]
  },
  {
   "cell_type": "code",
   "execution_count": 1,
   "metadata": {},
   "outputs": [],
   "source": [
    "import numpy as np\n",
    "import matplotlib.pyplot as plt\n",
    "import scipy\n",
    "from utils.util8 import visualizeFit\n",
    "plt.style.available\n",
    "plt.style.use('seaborn-v0_8')"
   ]
  },
  {
   "cell_type": "code",
   "execution_count": 2,
   "metadata": {},
   "outputs": [
    {
     "data": {
      "text/plain": [
       "((1682, 943), (1682, 943))"
      ]
     },
     "execution_count": 2,
     "metadata": {},
     "output_type": "execute_result"
    }
   ],
   "source": [
    "data = scipy.io.loadmat('./data/ex8_movies.mat')\n",
    "Y = data['Y']\n",
    "R = data['R']\n",
    "Y.shape, R.shape"
   ]
  },
  {
   "cell_type": "code",
   "execution_count": 3,
   "metadata": {},
   "outputs": [
    {
     "name": "stdout",
     "output_type": "stream",
     "text": [
      "Average rating for movie 1 (Toy Story): 3.8783185840707963\n"
     ]
    },
    {
     "data": {
      "text/plain": [
       "3.8783185840707963"
      ]
     },
     "execution_count": 3,
     "metadata": {},
     "output_type": "execute_result"
    }
   ],
   "source": [
    "print('Average rating for movie 1 (Toy Story):', np.mean(Y[0, R[0, :] == 1]))\n",
    "np.sum(Y[0])/np.sum(R[0])"
   ]
  },
  {
   "cell_type": "markdown",
   "metadata": {},
   "source": [
    "## Collaborative Filtering Learning Algorithm\n",
    "\n",
    "Now, we start implementing the collaborative filtering learning algorithm. \n",
    "We start by implementing the cost function (without regularization).\n",
    "\n",
    "The collaborative filtering algorithm in the setting of movie recommendations considers a set of \n",
    "$ n $-dimensional parameter vectors $ x^{(1)}, \\ldots, x^{(n_m)} $ and $ \\theta^{(1)}, \\ldots, \\theta^{(n_u)} $, \n",
    "where the model predicts the rating for movie $ i $ by user $ j $ as \n",
    "\n",
    "$$\n",
    "y^{(i,j)} = (\\theta^{(j)})^T x^{(i)}.\n",
    "$$\n",
    "\n",
    "Given a dataset that consists of a set of ratings produced by some users on some movies, \n",
    "you wish to learn the parameter vectors $ x^{(1)}, \\ldots, x^{(n_m)}, \\theta^{(1)}, \\ldots, \\theta^{(n_u)} $ \n",
    "that produce the best fit (minimizes the squared error).\n",
    "\n",
    "The `cofiCostFunc` computes the cost function and gradient for collaborative filtering. \n",
    "Note that the parameters to the function (i.e., the values that you are trying to learn) are `X` and `Theta`. \n",
    "In order to use an off-the-shelf minimizer such as `scipy.minimize`, \n",
    "the cost function has been set up to unroll the parameters into a single vector `params`. \n",
    "\n",
    "### Collaborative Filtering Cost Function\n",
    "\n",
    "The collaborative filtering cost function (without regularization) is given by:\n",
    "\n",
    "$$\n",
    "J(x^{(1)}, \\ldots, x^{(n_m)}, \\theta^{(1)}, \\ldots, \\theta^{(n_u)}) = \\frac{1}{2} \\sum_{(i,j): r(i,j) = 1} ((\\theta^{(j)})^T x^{(i)} - y^{(i,j)})^2.\n",
    "$$\n",
    "\n",
    "Note that we only accumulate the cost for user $ j $ and movie $ i $ if $ R(i,j) = 1 $.\n",
    "\n",
    "Finally, we run this cost function. We expect to see an output of 22.22 when we use a reduced dataset `(num_users = 4;num_movies = 5;num_features = 3)`\n"
   ]
  },
  {
   "cell_type": "code",
   "execution_count": 4,
   "metadata": {},
   "outputs": [
    {
     "data": {
      "text/plain": [
       "dict_keys(['__header__', '__version__', '__globals__', 'X', 'Theta', 'num_users', 'num_movies', 'num_features'])"
      ]
     },
     "execution_count": 4,
     "metadata": {},
     "output_type": "execute_result"
    }
   ],
   "source": [
    "movieParams = scipy.io.loadmat('./data/ex8_movieParams.mat')\n",
    "movieParams.keys()"
   ]
  },
  {
   "cell_type": "code",
   "execution_count": 5,
   "metadata": {},
   "outputs": [
    {
     "data": {
      "text/plain": [
       "((1682, 10), (943, 10))"
      ]
     },
     "execution_count": 5,
     "metadata": {},
     "output_type": "execute_result"
    }
   ],
   "source": [
    "X, Theta = movieParams['X'], movieParams['Theta']\n",
    "X.shape, Theta.shape"
   ]
  },
  {
   "cell_type": "code",
   "execution_count": 6,
   "metadata": {},
   "outputs": [
    {
     "data": {
      "text/plain": [
       "(943, 1682, 10)"
      ]
     },
     "execution_count": 6,
     "metadata": {},
     "output_type": "execute_result"
    }
   ],
   "source": [
    "num_users, num_movies, num_features = movieParams['num_users'], movieParams['num_movies'], movieParams['num_features']\n",
    "num_users, num_movies, num_features = num_users[0][0], num_movies[0][0], num_features[0][0]\n",
    "num_users, num_movies, num_features"
   ]
  },
  {
   "cell_type": "code",
   "execution_count": 25,
   "metadata": {},
   "outputs": [],
   "source": [
    "def J(X, Theta, Y, R):\n",
    "    return np.sum(((X.dot(Theta.T) - Y) * R)**2)/2"
   ]
  },
  {
   "cell_type": "code",
   "execution_count": 30,
   "metadata": {},
   "outputs": [
    {
     "data": {
      "text/plain": [
       "((5, 3), (4, 3), (5, 4), (5, 4))"
      ]
     },
     "execution_count": 30,
     "metadata": {},
     "output_type": "execute_result"
    }
   ],
   "source": [
    "# Reduce the data set size so that this runs faster\n",
    "num_users = 4\n",
    "num_movies = 5\n",
    "num_features = 3\n",
    "X1 = X[0:num_movies, 0:num_features]\n",
    "Theta1 = Theta[0:num_users, 0:num_features]\n",
    "Y1 = Y[0:num_movies, 0:num_users]\n",
    "R1 = R[0:num_movies, 0:num_users]\n",
    "X1.shape, Theta1.shape, Y1.shape, R1.shape"
   ]
  },
  {
   "cell_type": "code",
   "execution_count": 32,
   "metadata": {},
   "outputs": [
    {
     "data": {
      "text/plain": [
       "22.224603725685675"
      ]
     },
     "execution_count": 32,
     "metadata": {},
     "output_type": "execute_result"
    }
   ],
   "source": [
    "J(X1, Theta1, Y1, R1)"
   ]
  },
  {
   "cell_type": "code",
   "execution_count": null,
   "metadata": {},
   "outputs": [],
   "source": [
    "scipy.optimize.minimize(fun=J, method='BFGS')"
   ]
  },
  {
   "cell_type": "code",
   "execution_count": 34,
   "metadata": {},
   "outputs": [
    {
     "data": {
      "text/plain": [
       "(2625, 10)"
      ]
     },
     "execution_count": 34,
     "metadata": {},
     "output_type": "execute_result"
    }
   ],
   "source": [
    "np.vstack((X, Theta)).shape"
   ]
  },
  {
   "cell_type": "code",
   "execution_count": null,
   "metadata": {},
   "outputs": [],
   "source": []
  }
 ],
 "metadata": {
  "kernelspec": {
   "display_name": "base",
   "language": "python",
   "name": "python3"
  },
  "language_info": {
   "codemirror_mode": {
    "name": "ipython",
    "version": 3
   },
   "file_extension": ".py",
   "mimetype": "text/x-python",
   "name": "python",
   "nbconvert_exporter": "python",
   "pygments_lexer": "ipython3",
   "version": "3.12.7"
  }
 },
 "nbformat": 4,
 "nbformat_minor": 4
}
