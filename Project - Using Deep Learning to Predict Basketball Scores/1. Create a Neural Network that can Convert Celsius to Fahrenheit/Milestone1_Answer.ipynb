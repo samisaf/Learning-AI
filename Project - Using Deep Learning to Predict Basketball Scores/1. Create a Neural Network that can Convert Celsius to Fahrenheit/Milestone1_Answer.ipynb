{
  "nbformat": 4,
  "nbformat_minor": 0,
  "metadata": {
    "colab": {
      "name": "Milestone1-Answer.ipynb",
      "provenance": [],
      "authorship_tag": "ABX9TyMKDUZ6v7ay38YhLe2XxW5H"
    },
    "kernelspec": {
      "name": "python3",
      "display_name": "Python 3"
    }
  },
  "cells": [
    {
      "cell_type": "markdown",
      "metadata": {
        "id": "qiIbKUWwPqCD",
        "colab_type": "text"
      },
      "source": [
        "# Setting up the Google Colab Notebook"
      ]
    },
    {
      "cell_type": "markdown",
      "metadata": {
        "id": "GpSoNZ6cPvjs",
        "colab_type": "text"
      },
      "source": [
        "## 1 Start a new Google Colab Notebook and validate the libraries"
      ]
    },
    {
      "cell_type": "markdown",
      "metadata": {
        "id": "rY0kgLMnP3fS",
        "colab_type": "text"
      },
      "source": [
        "### Check the version of Python (3.6+)"
      ]
    },
    {
      "cell_type": "code",
      "metadata": {
        "id": "R2dTX4YkP9nJ",
        "colab_type": "code",
        "outputId": "276a6c4f-bc43-48c8-d976-d2c485214913",
        "colab": {
          "base_uri": "https://localhost:8080/",
          "height": 51
        }
      },
      "source": [
        "import sys\n",
        "print(sys.version)"
      ],
      "execution_count": 0,
      "outputs": [
        {
          "output_type": "stream",
          "text": [
            "3.6.9 (default, Apr 18 2020, 01:56:04) \n",
            "[GCC 8.4.0]\n"
          ],
          "name": "stdout"
        }
      ]
    },
    {
      "cell_type": "markdown",
      "metadata": {
        "id": "IpZyF0q1R2ri",
        "colab_type": "text"
      },
      "source": [
        "### Check the version of Numpy (1.18+)"
      ]
    },
    {
      "cell_type": "code",
      "metadata": {
        "id": "L74a79BuR5F_",
        "colab_type": "code",
        "outputId": "dacecf06-3654-47a2-b5d4-c5af64174def",
        "colab": {
          "base_uri": "https://localhost:8080/",
          "height": 34
        }
      },
      "source": [
        "import numpy as np\n",
        "print(np.__version__)"
      ],
      "execution_count": 0,
      "outputs": [
        {
          "output_type": "stream",
          "text": [
            "1.18.4\n"
          ],
          "name": "stdout"
        }
      ]
    },
    {
      "cell_type": "markdown",
      "metadata": {
        "id": "gQYX7_WMP80P",
        "colab_type": "text"
      },
      "source": [
        "### Check the version of Pandas (1.0+)"
      ]
    },
    {
      "cell_type": "code",
      "metadata": {
        "id": "hp1EdY80QAGN",
        "colab_type": "code",
        "outputId": "e703f2cf-491b-4d87-9d35-6e166f7f9baa",
        "colab": {
          "base_uri": "https://localhost:8080/",
          "height": 34
        }
      },
      "source": [
        "import pandas as pd\n",
        "print(pd.__version__)"
      ],
      "execution_count": 0,
      "outputs": [
        {
          "output_type": "stream",
          "text": [
            "1.0.3\n"
          ],
          "name": "stdout"
        }
      ]
    },
    {
      "cell_type": "markdown",
      "metadata": {
        "id": "tm7taPg4QAge",
        "colab_type": "text"
      },
      "source": [
        "### Check the version of TensorFlow (2.2+)"
      ]
    },
    {
      "cell_type": "code",
      "metadata": {
        "id": "Um9tyH6KQDNi",
        "colab_type": "code",
        "outputId": "fc8d16e2-290f-45e1-a3a8-0973ca600985",
        "colab": {
          "base_uri": "https://localhost:8080/",
          "height": 34
        }
      },
      "source": [
        "import tensorflow as tf\n",
        "print(tf.__version__)"
      ],
      "execution_count": 0,
      "outputs": [
        {
          "output_type": "stream",
          "text": [
            "2.2.0-rc4\n"
          ],
          "name": "stdout"
        }
      ]
    },
    {
      "cell_type": "markdown",
      "metadata": {
        "id": "BvbTMoZ0kWS7",
        "colab_type": "text"
      },
      "source": [
        "## 2 Manipulating data with Pandas"
      ]
    },
    {
      "cell_type": "markdown",
      "metadata": {
        "id": "73-lesyfmXzT",
        "colab_type": "text"
      },
      "source": [
        "### Create a 4 column DataFrame, fill the first column with dates, fill the second and third column with random numbers.  "
      ]
    },
    {
      "cell_type": "code",
      "metadata": {
        "id": "-Rt1I-frkaCK",
        "colab_type": "code",
        "colab": {}
      },
      "source": [
        "import pandas as pd\n",
        "import random\n",
        "\n",
        "df = pd.DataFrame(\n",
        "    {'Date': pd.period_range('1/1/2018', freq='M', periods=36),\n",
        "     'Home': [random.randint(1,100) for x in range(36) ],\n",
        "     'Away': [random.randint(1,100) for x in range(36) ],\n",
        "     'Result': [-1 for x in range(36)]\n",
        "     })\n"
      ],
      "execution_count": 0,
      "outputs": []
    },
    {
      "cell_type": "markdown",
      "metadata": {
        "id": "uS2i5ccpmuyt",
        "colab_type": "text"
      },
      "source": [
        "### Fill the fourth column with the difference between columns 2 and 3  \n",
        "\n",
        "This step will be useful later in the project. I want to show how easy it is to do a function on an entire DataFrame at one time. If you are looping you need to look through some Pandas tutorials."
      ]
    },
    {
      "cell_type": "code",
      "metadata": {
        "id": "cTmW56FytZVy",
        "colab_type": "code",
        "outputId": "426f9c6a-4021-40ef-ce68-0f68bc69b770",
        "colab": {
          "base_uri": "https://localhost:8080/",
          "height": 204
        }
      },
      "source": [
        "df['Result'] = df['Home'] - df['Away']\n",
        "df.head()"
      ],
      "execution_count": 0,
      "outputs": [
        {
          "output_type": "execute_result",
          "data": {
            "text/html": [
              "<div>\n",
              "<style scoped>\n",
              "    .dataframe tbody tr th:only-of-type {\n",
              "        vertical-align: middle;\n",
              "    }\n",
              "\n",
              "    .dataframe tbody tr th {\n",
              "        vertical-align: top;\n",
              "    }\n",
              "\n",
              "    .dataframe thead th {\n",
              "        text-align: right;\n",
              "    }\n",
              "</style>\n",
              "<table border=\"1\" class=\"dataframe\">\n",
              "  <thead>\n",
              "    <tr style=\"text-align: right;\">\n",
              "      <th></th>\n",
              "      <th>Date</th>\n",
              "      <th>Home</th>\n",
              "      <th>Away</th>\n",
              "      <th>Result</th>\n",
              "    </tr>\n",
              "  </thead>\n",
              "  <tbody>\n",
              "    <tr>\n",
              "      <th>0</th>\n",
              "      <td>2018-01</td>\n",
              "      <td>29</td>\n",
              "      <td>22</td>\n",
              "      <td>7</td>\n",
              "    </tr>\n",
              "    <tr>\n",
              "      <th>1</th>\n",
              "      <td>2018-02</td>\n",
              "      <td>68</td>\n",
              "      <td>22</td>\n",
              "      <td>46</td>\n",
              "    </tr>\n",
              "    <tr>\n",
              "      <th>2</th>\n",
              "      <td>2018-03</td>\n",
              "      <td>47</td>\n",
              "      <td>62</td>\n",
              "      <td>-15</td>\n",
              "    </tr>\n",
              "    <tr>\n",
              "      <th>3</th>\n",
              "      <td>2018-04</td>\n",
              "      <td>71</td>\n",
              "      <td>86</td>\n",
              "      <td>-15</td>\n",
              "    </tr>\n",
              "    <tr>\n",
              "      <th>4</th>\n",
              "      <td>2018-05</td>\n",
              "      <td>19</td>\n",
              "      <td>23</td>\n",
              "      <td>-4</td>\n",
              "    </tr>\n",
              "  </tbody>\n",
              "</table>\n",
              "</div>"
            ],
            "text/plain": [
              "      Date  Home  Away  Result\n",
              "0  2018-01    29    22       7\n",
              "1  2018-02    68    22      46\n",
              "2  2018-03    47    62     -15\n",
              "3  2018-04    71    86     -15\n",
              "4  2018-05    19    23      -4"
            ]
          },
          "metadata": {
            "tags": []
          },
          "execution_count": 46
        }
      ]
    },
    {
      "cell_type": "markdown",
      "metadata": {
        "id": "oqvG0U6kmqzf",
        "colab_type": "text"
      },
      "source": [
        "### Break apart based on year  \n",
        "\n",
        "This section shows how you can filter based on a column value. We will do this later in the project to break apart different basketball seasons. Be away of the `.copy()` at the end of the calls. We want to make sure we are getting a copy of the data in case we change the values later in the notebook."
      ]
    },
    {
      "cell_type": "code",
      "metadata": {
        "id": "N14sIKFgm0J_",
        "colab_type": "code",
        "colab": {}
      },
      "source": [
        "df2018 = df[ df['Date'] < '2109-1-1' ].copy()\n",
        "df2019 = df[ (df['Date'] > '2018-12-31') & (df['Date'] < '2020-1-1')].copy()\n",
        "df2020 = df[ (df['Date'] > '2019-12-31') & (df['Date'] < '2021-1-1')].copy()\n"
      ],
      "execution_count": 0,
      "outputs": []
    },
    {
      "cell_type": "markdown",
      "metadata": {
        "id": "HahPxVgrQO96",
        "colab_type": "text"
      },
      "source": [
        "## 3 Create a neural network that can convert Celcius to Fahrenheit"
      ]
    },
    {
      "cell_type": "markdown",
      "metadata": {
        "id": "JDulqogXSlsx",
        "colab_type": "text"
      },
      "source": [
        "### Create the simple neural network\n",
        "\n",
        "**Below are the key parts to the network**  \n",
        "`Sequential`: We will want this to be a sequential network. For the most part, this is the default type. It just means that the data flows sequentially through all of the layers.  \n",
        "`Dense`: This is the simplest layer available. For a deeper understanding you can check out the official documentation [here](https://keras.io/api/layers/core_layers/dense/)  \n",
        "`units`: This specifies the number of neurons in the layer. In other words, this is the number of variables the layer has to learn.  \n",
        "`input_shape`: This specifies how many parameters that we will pass to our network. Since we are just going to send in the temperate in Celcius we only need 1.  \n",
        "`compile`: We need to compile the network to be able to start using it.  \n",
        "`loss`: This is the loss function. It is how the network is able to determin how far off the prediction is from the desired outcome.  \n",
        "`optimizer`: This determines the way the internal values are adjusted to reduce the loss. For more information on the Adam optimizer go to the documentation [here](https://keras.io/api/optimizers/adam/). \n"
      ]
    },
    {
      "cell_type": "code",
      "metadata": {
        "id": "1Dfjv6mIT4E7",
        "colab_type": "code",
        "colab": {}
      },
      "source": [
        "model = tf.keras.Sequential(\n",
        "    tf.keras.layers.Dense(units=1, input_shape=[1])\n",
        ")\n",
        "model.compile(loss='mean_squared_error', \n",
        "              optimizer=tf.keras.optimizers.Adam(0.1))"
      ],
      "execution_count": 0,
      "outputs": []
    },
    {
      "cell_type": "markdown",
      "metadata": {
        "id": "G8PVDjVrW0aI",
        "colab_type": "text"
      },
      "source": [
        "### Use Numpy to generate ~20 input/output values to test\n",
        "\n",
        "These values don't matter too much. We just need some data."
      ]
    },
    {
      "cell_type": "code",
      "metadata": {
        "id": "93BS8MZKQThv",
        "colab_type": "code",
        "outputId": "3901e9a3-8556-4752-e8fb-2987c8fd6c5a",
        "colab": {
          "base_uri": "https://localhost:8080/",
          "height": 85
        }
      },
      "source": [
        "celsius = np.array([], float)\n",
        "fahrenheit = np.array([], float)\n",
        "for i in range(0, 100, 5):\n",
        "    celsius = np.append(celsius, i)\n",
        "    fahrenheit = np.append(fahrenheit, i * 1.8 + 32 )\n",
        "\n",
        "print(celsius)\n",
        "print(fahrenheit)\n"
      ],
      "execution_count": 0,
      "outputs": [
        {
          "output_type": "stream",
          "text": [
            "[ 0.  5. 10. 15. 20. 25. 30. 35. 40. 45. 50. 55. 60. 65. 70. 75. 80. 85.\n",
            " 90. 95.]\n",
            "[ 32.  41.  50.  59.  68.  77.  86.  95. 104. 113. 122. 131. 140. 149.\n",
            " 158. 167. 176. 185. 194. 203.]\n"
          ],
          "name": "stdout"
        }
      ]
    },
    {
      "cell_type": "markdown",
      "metadata": {
        "id": "20gDW4CDXTz2",
        "colab_type": "text"
      },
      "source": [
        "### Train the neural network\n",
        "\n",
        "**Below are the key parts of the training code**  \n",
        "`history`: These values are the results of the training. We will use these after to graph what we have done.  \n",
        "`fit`: This is the method that does the training of the model. We are passing in our celsius data and also passing in our expected output (fahrenheit) data.  \n",
        "`epochs`: This parameter specifies how many times this cycle should be run.  "
      ]
    },
    {
      "cell_type": "code",
      "metadata": {
        "id": "MK2poDuUXhW-",
        "colab_type": "code",
        "colab": {}
      },
      "source": [
        "history = model.fit(celsius, fahrenheit, epochs=500, verbose=False)\n"
      ],
      "execution_count": 0,
      "outputs": []
    },
    {
      "cell_type": "markdown",
      "metadata": {
        "id": "t8dMnSBtYOuc",
        "colab_type": "text"
      },
      "source": [
        "To validate that you are getting closer to your desired results we can graph the values that came back from the training. A common way to do this is by graphing your loss value versus your training epochs.  \n",
        "\n",
        "Ideally, when you are training you should see the loss value drop and eventually level out. At this point, you know that you have trained your model. Now, this does NOT ensure that it will pass your tests but they should be pretty close if your data is a good representation of your full data set."
      ]
    },
    {
      "cell_type": "code",
      "metadata": {
        "id": "6pmitMTXYawu",
        "colab_type": "code",
        "outputId": "4a1f7e13-fb98-478e-d062-078bc04b5cec",
        "colab": {
          "base_uri": "https://localhost:8080/",
          "height": 296
        }
      },
      "source": [
        "import matplotlib.pyplot as plt\n",
        "plt.xlabel('Epoch')\n",
        "plt.ylabel('Loss')\n",
        "plt.plot(history.history['loss'])"
      ],
      "execution_count": 0,
      "outputs": [
        {
          "output_type": "execute_result",
          "data": {
            "text/plain": [
              "[<matplotlib.lines.Line2D at 0x7f6eb3436278>]"
            ]
          },
          "metadata": {
            "tags": []
          },
          "execution_count": 28
        },
        {
          "output_type": "display_data",
          "data": {
            "image/png": "[encoded data removed]",
            "text/plain": [
              "<Figure size 432x288 with 1 Axes>"
            ]
          },
          "metadata": {
            "tags": [],
            "needs_background": "light"
          }
        }
      ]
    },
    {
      "cell_type": "markdown",
      "metadata": {
        "id": "L7nypo2EYyIH",
        "colab_type": "text"
      },
      "source": [
        "## Testing the network\n",
        "\n",
        "Here we will pass in some values to see if we get back what we expect. These should be pretty close but not exact."
      ]
    },
    {
      "cell_type": "code",
      "metadata": {
        "id": "-r2VYDz3Y302",
        "colab_type": "code",
        "outputId": "4068c11e-33c7-4210-a964-eeaa778e3afb",
        "colab": {
          "base_uri": "https://localhost:8080/",
          "height": 85
        }
      },
      "source": [
        "print('5 * 1.8 + 32 = 41')\n",
        "print(model.predict([5]))\n",
        "print('99 * 1.8 + 32 = 210.2')\n",
        "print(model.predict([99]))"
      ],
      "execution_count": 0,
      "outputs": [
        {
          "output_type": "stream",
          "text": [
            "5 * 1.8 + 32 = 41\n",
            "[[38.58188]]\n",
            "99 * 1.8 + 32 = 210.2\n",
            "[[211.58064]]\n"
          ],
          "name": "stdout"
        }
      ]
    },
    {
      "cell_type": "markdown",
      "metadata": {
        "id": "NSCnfeYYaQS6",
        "colab_type": "text"
      },
      "source": [
        "### Examine the weights\n",
        "\n",
        "Here is the part that I wanted to show that will explain the inner workings of a neural network. I hope that seeing how the weights and biases are set through training it will make neural networks something that you can manage and not a scary buzzword."
      ]
    },
    {
      "cell_type": "code",
      "metadata": {
        "id": "v6PIpuCpapm6",
        "colab_type": "code",
        "outputId": "1378b4f7-0146-4bc7-97e2-4bf61626f306",
        "colab": {
          "base_uri": "https://localhost:8080/",
          "height": 51
        }
      },
      "source": [
        "print(\"This is the weight that should be pretty close to the *1.8 in the formula: {}\".format( model.layers[0].get_weights()[0][0] ))\n",
        "print(\"This is the bias that should be pretty close to the +32 in the formula: {}\".format( model.layers[0].get_weights()[1] ))\n"
      ],
      "execution_count": 0,
      "outputs": [
        {
          "output_type": "stream",
          "text": [
            "This is the first weight that should be pretty close to the *1.8 in the formula: [1.8404124]\n",
            "This is the second weight that should be pretty close to the +32 in the formula: [29.379818]\n"
          ],
          "name": "stdout"
        }
      ]
    },
    {
      "cell_type": "markdown",
      "metadata": {
        "id": "wklo8jiMbQzc",
        "colab_type": "text"
      },
      "source": [
        "So, how did you do? Did your weights come pretty close to matching $F = C*1.8 + 32$??"
      ]
    }
  ]
}