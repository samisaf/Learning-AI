{
 "metadata": {
  "language_info": {
   "codemirror_mode": {
    "name": "ipython",
    "version": 3
   },
   "file_extension": ".py",
   "mimetype": "text/x-python",
   "name": "python",
   "nbconvert_exporter": "python",
   "pygments_lexer": "ipython3",
   "version": "3.8.5-final"
  },
  "orig_nbformat": 2,
  "kernelspec": {
   "name": "python3",
   "display_name": "Python 3.8.5 64-bit",
   "metadata": {
    "interpreter": {
     "hash": "2db524e06e9f5f4ffedc911c917cb75e12dbc923643829bf417064a77eb14d37"
    }
   }
  }
 },
 "nbformat": 4,
 "nbformat_minor": 2,
 "cells": [
  {
   "cell_type": "code",
   "execution_count": 14,
   "metadata": {},
   "outputs": [],
   "source": [
    "import numpy as np\n",
    "import pandas as pd\n",
    "\n",
    "teamsfile = 'https://lp-prod-resources.s3.amazonaws.com/other/deeplearningbasketballscores/Teams.csv'\n",
    "gamesfile = 'https://lp-prod-resources.s3.amazonaws.com/other/deeplearningbasketballscores/Games.csv'\n",
    "\n",
    "teams = pd.read_csv(teamsfile, names=[\"Name\", \"Place\"])\n",
    "games = pd.read_csv(gamesfile, names=['Date', 'HomeTeam', 'HomeScore', 'AwayTeam', 'AwayScore'], parse_dates=['Date'])"
   ]
  },
  {
   "cell_type": "code",
   "execution_count": 15,
   "metadata": {},
   "outputs": [
    {
     "output_type": "execute_result",
     "data": {
      "text/plain": [
       "           Name        Place\n",
       "0  America East      Vermont\n",
       "1  America East  Stony Brook\n",
       "2  America East         UMBC\n",
       "3  America East     Hartford\n",
       "4  America East       Albany"
      ],
      "text/html": "<div>\n<style scoped>\n    .dataframe tbody tr th:only-of-type {\n        vertical-align: middle;\n    }\n\n    .dataframe tbody tr th {\n        vertical-align: top;\n    }\n\n    .dataframe thead th {\n        text-align: right;\n    }\n</style>\n<table border=\"1\" class=\"dataframe\">\n  <thead>\n    <tr style=\"text-align: right;\">\n      <th></th>\n      <th>Name</th>\n      <th>Place</th>\n    </tr>\n  </thead>\n  <tbody>\n    <tr>\n      <th>0</th>\n      <td>America East</td>\n      <td>Vermont</td>\n    </tr>\n    <tr>\n      <th>1</th>\n      <td>America East</td>\n      <td>Stony Brook</td>\n    </tr>\n    <tr>\n      <th>2</th>\n      <td>America East</td>\n      <td>UMBC</td>\n    </tr>\n    <tr>\n      <th>3</th>\n      <td>America East</td>\n      <td>Hartford</td>\n    </tr>\n    <tr>\n      <th>4</th>\n      <td>America East</td>\n      <td>Albany</td>\n    </tr>\n  </tbody>\n</table>\n</div>"
     },
     "metadata": {},
     "execution_count": 15
    }
   ],
   "source": [
    "teams.head()"
   ]
  },
  {
   "cell_type": "code",
   "execution_count": 16,
   "metadata": {},
   "outputs": [
    {
     "output_type": "execute_result",
     "data": {
      "text/plain": [
       "        Date       HomeTeam  HomeScore     AwayTeam  AwayScore\n",
       "0 2015-11-13         Hawaii         87  Montana St.         76\n",
       "1 2015-11-13  Eastern Mich.         70      Vermont         50\n",
       "2 2015-11-13       Columbia        107         Kean         62\n",
       "3 2015-11-13     La.-Monroe         88      McMurry         43\n",
       "4 2015-11-13           Yale         70    Fairfield         57"
      ],
      "text/html": "<div>\n<style scoped>\n    .dataframe tbody tr th:only-of-type {\n        vertical-align: middle;\n    }\n\n    .dataframe tbody tr th {\n        vertical-align: top;\n    }\n\n    .dataframe thead th {\n        text-align: right;\n    }\n</style>\n<table border=\"1\" class=\"dataframe\">\n  <thead>\n    <tr style=\"text-align: right;\">\n      <th></th>\n      <th>Date</th>\n      <th>HomeTeam</th>\n      <th>HomeScore</th>\n      <th>AwayTeam</th>\n      <th>AwayScore</th>\n    </tr>\n  </thead>\n  <tbody>\n    <tr>\n      <th>0</th>\n      <td>2015-11-13</td>\n      <td>Hawaii</td>\n      <td>87</td>\n      <td>Montana St.</td>\n      <td>76</td>\n    </tr>\n    <tr>\n      <th>1</th>\n      <td>2015-11-13</td>\n      <td>Eastern Mich.</td>\n      <td>70</td>\n      <td>Vermont</td>\n      <td>50</td>\n    </tr>\n    <tr>\n      <th>2</th>\n      <td>2015-11-13</td>\n      <td>Columbia</td>\n      <td>107</td>\n      <td>Kean</td>\n      <td>62</td>\n    </tr>\n    <tr>\n      <th>3</th>\n      <td>2015-11-13</td>\n      <td>La.-Monroe</td>\n      <td>88</td>\n      <td>McMurry</td>\n      <td>43</td>\n    </tr>\n    <tr>\n      <th>4</th>\n      <td>2015-11-13</td>\n      <td>Yale</td>\n      <td>70</td>\n      <td>Fairfield</td>\n      <td>57</td>\n    </tr>\n  </tbody>\n</table>\n</div>"
     },
     "metadata": {},
     "execution_count": 16
    }
   ],
   "source": [
    "games.head()"
   ]
  },
  {
   "cell_type": "code",
   "execution_count": 17,
   "metadata": {},
   "outputs": [
    {
     "output_type": "execute_result",
     "data": {
      "text/plain": [
       "0       2015-11-13\n",
       "1       2015-11-13\n",
       "2       2015-11-13\n",
       "3       2015-11-13\n",
       "4       2015-11-13\n",
       "           ...    \n",
       "23488   2019-03-21\n",
       "23489   2019-03-21\n",
       "23490   2019-03-21\n",
       "23491   2019-03-22\n",
       "23492   2019-03-22\n",
       "Name: Date, Length: 23493, dtype: datetime64[ns]"
      ]
     },
     "metadata": {},
     "execution_count": 17
    }
   ],
   "source": [
    "games['Date']"
   ]
  },
  {
   "cell_type": "code",
   "execution_count": 18,
   "metadata": {},
   "outputs": [
    {
     "output_type": "stream",
     "name": "stdout",
     "text": [
      "<class 'pandas.core.frame.DataFrame'>\nRangeIndex: 23493 entries, 0 to 23492\nData columns (total 5 columns):\n #   Column     Non-Null Count  Dtype         \n---  ------     --------------  -----         \n 0   Date       23493 non-null  datetime64[ns]\n 1   HomeTeam   23493 non-null  object        \n 2   HomeScore  23493 non-null  int64         \n 3   AwayTeam   23492 non-null  object        \n 4   AwayScore  23493 non-null  int64         \ndtypes: datetime64[ns](1), int64(2), object(2)\nmemory usage: 917.8+ KB\n"
     ]
    }
   ],
   "source": [
    "games.info()"
   ]
  },
  {
   "cell_type": "code",
   "execution_count": 21,
   "metadata": {},
   "outputs": [
    {
     "output_type": "execute_result",
     "data": {
      "text/plain": [
       "0               Hawaii\n",
       "1        Eastern Mich.\n",
       "2             Columbia\n",
       "3           La.-Monroe\n",
       "4                 Yale\n",
       "             ...      \n",
       "23488          Hampton\n",
       "23489       La.-Monroe\n",
       "23490    CSU Fullerton\n",
       "23491    Southern Utah\n",
       "23492        Creighton\n",
       "Name: HomeTeam, Length: 23493, dtype: object"
      ]
     },
     "metadata": {},
     "execution_count": 21
    }
   ],
   "source": [
    "games['HomeTeam'].astype(str)"
   ]
  },
  {
   "cell_type": "code",
   "execution_count": 25,
   "metadata": {},
   "outputs": [
    {
     "output_type": "execute_result",
     "data": {
      "text/plain": [
       "Date          550\n",
       "HomeTeam      452\n",
       "HomeScore     113\n",
       "AwayTeam     1022\n",
       "AwayScore      99\n",
       "dtype: int64"
      ]
     },
     "metadata": {},
     "execution_count": 25
    }
   ],
   "source": [
    "games.nunique()"
   ]
  },
  {
   "cell_type": "code",
   "execution_count": 23,
   "metadata": {},
   "outputs": [
    {
     "output_type": "execute_result",
     "data": {
      "text/plain": [
       "Name      32\n",
       "Place    353\n",
       "dtype: int64"
      ]
     },
     "metadata": {},
     "execution_count": 23
    }
   ],
   "source": [
    "teams.nunique()"
   ]
  },
  {
   "cell_type": "code",
   "execution_count": null,
   "metadata": {},
   "outputs": [],
   "source": []
  }
 ]
}