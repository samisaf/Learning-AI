{
 "cells": [
  {
   "cell_type": "markdown",
   "metadata": {
    "colab_type": "text",
    "id": "H8Ab2A8MnoC4"
   },
   "source": [
    "# Collecting and cleaning data"
   ]
  },
  {
   "cell_type": "code",
   "execution_count": 1,
   "metadata": {
    "colab": {},
    "colab_type": "code",
    "id": "xB2vEUwAwfDm"
   },
   "outputs": [],
   "source": [
    "import pandas as pd\n",
    "import numpy as np"
   ]
  },
  {
   "cell_type": "markdown",
   "metadata": {
    "colab_type": "text",
    "id": "aPMoFJ4lvw5v"
   },
   "source": [
    "## Load the Teams.csv data set into a DataFrame  \n",
    "\n",
    "Neither of the csv files have a header row so I manually add them here. I could just use the index but I like the more verbose feel of the actual names."
   ]
  },
  {
   "cell_type": "code",
   "execution_count": 3,
   "metadata": {
    "colab": {},
    "colab_type": "code",
    "id": "Q3RebLbNwjdn"
   },
   "outputs": [],
   "source": [
    "team_columns = ['Conference','Team']\n",
    "\n",
    "teams_csv = 'https://lp-prod-resources.s3.amazonaws.com/other/deeplearningbasketballscores/Teams.csv'\n",
    "teams = pd.read_csv(teams_csv, header=None, names=team_columns)"
   ]
  },
  {
   "cell_type": "markdown",
   "metadata": {
    "colab_type": "text",
    "id": "FHNARXgWvIkh"
   },
   "source": [
    "## Load the Games.csv data set into a DataFrame"
   ]
  },
  {
   "cell_type": "code",
   "execution_count": 4,
   "metadata": {
    "colab": {},
    "colab_type": "code",
    "id": "d7Yt0WIixAph"
   },
   "outputs": [],
   "source": [
    "column_names = ['Date','HomeTeam','HomeScore','AwayTeam','AwayScore']\n",
    "\n",
    "games_csv = 'https://lp-prod-resources.s3.amazonaws.com/other/deeplearningbasketballscores/Games.csv'\n",
    "games = pd.read_csv(games_csv, header=None, names=column_names)"
   ]
  },
  {
   "cell_type": "markdown",
   "metadata": {
    "colab_type": "text",
    "id": "cWISs7GZvVXA"
   },
   "source": [
    "### Remove any games without a score  \n",
    "\n",
    "There are a couple of games that don't have a score because they were cancelled (I actually think the floors were wet from humidity). I need to remove those because it is simply bad data and will skew the averages. There are outliers like this is many datasets and need to be handled."
   ]
  },
  {
   "cell_type": "code",
   "execution_count": 5,
   "metadata": {
    "colab": {},
    "colab_type": "code",
    "id": "kHBbIpdZxFa9"
   },
   "outputs": [],
   "source": [
    "games = games.drop( games[(games['HomeScore'] == 0)].index )\n",
    "games = games.drop( games[(games['AwayScore'] == 0)].index )"
   ]
  },
  {
   "cell_type": "markdown",
   "metadata": {
    "colab_type": "text",
    "id": "7M8MFXrcvXi3"
   },
   "source": [
    "### Break the Games DataFrame into seasons  \n",
    "\n",
    "Since we are using scoring average we need to break the dataset into seasons. It wouldn't make sense combining seasons because the teams are different. We only want to use the current teams average since that team is the one winning or losing."
   ]
  },
  {
   "cell_type": "code",
   "execution_count": 6,
   "metadata": {
    "colab": {
     "base_uri": "https://localhost:8080/",
     "height": 85
    },
    "colab_type": "code",
    "id": "Xmd0hAxmxPBF",
    "outputId": "8898cdd1-d335-4d12-a6c3-82878ff599b7"
   },
   "outputs": [
    {
     "name": "stdout",
     "output_type": "stream",
     "text": [
      "2015 (5881): 2015-11-13 - 2016-04-01\n",
      "2016 (5904): 2016-11-11 - 2017-03-31\n",
      "2017 (5612): 2017-11-10 - 2018-03-31\n",
      "2018 (5894): 2018-11-06 - 2019-03-22\n"
     ]
    }
   ],
   "source": [
    "s2015 = games[(games['Date'] > '2015-11-01') & (games['Date'] < '2016-04-15')].copy()\n",
    "s2016 = games[(games['Date'] > '2016-11-01') & (games['Date'] < '2017-04-15')].copy()\n",
    "s2017 = games[(games['Date'] > '2017-11-01') & (games['Date'] < '2018-04-15')].copy()\n",
    "s2018 = games[(games['Date'] > '2018-11-01') & (games['Date'] < '2019-04-15')].copy()\n",
    "\n",
    "print('2015 (%s): %s - %s' % (s2015.shape[0],np.min(s2015.Date),np.max(s2015.Date)))\n",
    "print('2016 (%s): %s - %s' % (s2016.shape[0],np.min(s2016.Date),np.max(s2016.Date)))\n",
    "print('2017 (%s): %s - %s' % (s2017.shape[0],np.min(s2017.Date),np.max(s2017.Date)))\n",
    "print('2018 (%s): %s - %s' % (s2018.shape[0],np.min(s2018.Date),np.max(s2018.Date)))"
   ]
  },
  {
   "cell_type": "markdown",
   "metadata": {
    "colab_type": "text",
    "id": "nBid6sY8v1j1"
   },
   "source": [
    "### Clean the team names if they don't match the Teams entry  \n",
    "\n",
    "This was one of the most frustrating parts of the project. It also points out the reason most quality data sources have a lookup for something like this instead of a text entry for the teams."
   ]
  },
  {
   "cell_type": "code",
   "execution_count": 7,
   "metadata": {
    "colab": {},
    "colab_type": "code",
    "id": "Zugc8oS7yiOb"
   },
   "outputs": [],
   "source": [
    "def RenameTeams(df_games, column_name):\n",
    "  df_games.loc[ df_games[column_name] == 'A&M-Corpus Chris'\t\t, column_name ] = \t\t'Texas A&M-CC'\t\n",
    "  df_games.loc[ df_games[column_name] == 'Alabama St.'\t\t, column_name ] = \t\t'Alabama State'\t\t\n",
    "  df_games.loc[ df_games[column_name] == 'Albany (NY)'\t\t, column_name ] = \t\t'Albany'\t\t\t\t\n",
    "  df_games.loc[ df_games[column_name] == 'Alcorn St.'\t\t\t, column_name ] = \t\t'Alcorn State'\t\t\n",
    "  df_games.loc[ df_games[column_name] == 'American'\t\t\t, column_name ] = \t\t'American University'\n",
    "  df_games.loc[ df_games[column_name] == 'Appalachian St.'\t\t\t, column_name ] = \t\t'Appalachian State'\t\n",
    "  df_games.loc[ df_games[column_name] == 'Arizona St.'\t\t, column_name ] = \t\t'Arizona State'\t\t\t\t\t\t\n",
    "  df_games.loc[ df_games[column_name] == 'Army West Point'\t\t, column_name ] = \t\t'Army'\t\t\t\t\t\n",
    "  df_games.loc[ df_games[column_name] == 'Ark.-Pine Bluff'\t\t, column_name ] = \t\t'Arkansas-Pine Bluff'\n",
    "  df_games.loc[ df_games[column_name] == 'UALR'\t\t\t\t, column_name ] = \t\t'Arkansas-Little Rock'\t\n",
    "  df_games.loc[ df_games[column_name] == 'Little Rock'\t\t\t\t, column_name ] = \t\t'Arkansas-Little Rock'\t\t\t\n",
    "  df_games.loc[ df_games[column_name] == 'Arkansas St.'\t\t, column_name ] = \t\t'Arkansas State'\t\t\n",
    "  df_games.loc[ df_games[column_name] == 'Ball St.'\t\t\t, column_name ] = \t\t'Ball State'\t\t\t\n",
    "  df_games.loc[ df_games[column_name] == 'Boise St.'\t\t\t, column_name ] = \t\t'Boise State'\t\t\n",
    "  df_games.loc[ df_games[column_name] == 'Boston U.'\t\t\t, column_name ] = \t\t'Boston University'\t\t\t\n",
    "  df_games.loc[ df_games[column_name] == 'Cal Baptist'\t, column_name ] = \t\t'California Baptist'\t\t\t\n",
    "  df_games.loc[ df_games[column_name] == 'Charleston So.'\t, column_name ] = \t\t'Charleston Southern'\t\t\t\n",
    "  df_games.loc[ df_games[column_name] == 'Cent. Conn. St.'\t, column_name ] = \t\t'Central Connecticut State'\t\n",
    "  df_games.loc[ df_games[column_name] == 'Central Conn. St.'\t, column_name ] = \t\t'Central Connecticut State'\t\n",
    "  df_games.loc[ df_games[column_name] == 'Central Mich.'\t, column_name ] = \t\t'Central Michigan'\t\n",
    "  df_games.loc[ df_games[column_name] == 'Col. of Charleston'\t, column_name ] = \t\t'Charleston'\t\t\t\n",
    "  df_games.loc[ df_games[column_name] == 'Chicago St.'\t\t, column_name ] = \t\t'Chicago State'\t\t\n",
    "  df_games.loc[ df_games[column_name] == 'Cleveland St.'\t\t, column_name ] = \t\t'Cleveland State'\t\t\n",
    "  df_games.loc[ df_games[column_name] == 'Coastal Caro.'\t\t, column_name ] = \t\t'Coastal Carolina'\t\t\t\t\n",
    "  df_games.loc[ df_games[column_name] == 'Colorado St.'\t\t, column_name ] = \t\t'Colorado State'\t\n",
    "  df_games.loc[ df_games[column_name] == 'Coppin St.'\t\t\t, column_name ] = \t\t'Coppin State'\t\t\t\n",
    "  df_games.loc[ df_games[column_name] == 'Bakersfield'\t\t, column_name ] = \t\t'Cal State Bakersfield'\t\n",
    "  df_games.loc[ df_games[column_name] == 'CSU Bakersfield'\t\t, column_name ] = \t\t'Cal State Bakersfield'\t\t\n",
    "  df_games.loc[ df_games[column_name] == 'Bryant'\t\t, column_name ] = \t\t'Bryant University'\t\n",
    "  df_games.loc[ df_games[column_name] == 'Cal St. Fullerton'\t, column_name ] = \t\t'Cal State Fullerton'\n",
    "  df_games.loc[ df_games[column_name] == 'CSU Fullerton'\t, column_name ] = \t\t'Cal State Fullerton'\t\t\n",
    "  df_games.loc[ df_games[column_name] == 'CSUN'\t, column_name ] = \t\t'Cal State Northridge'\t\n",
    "  df_games.loc[ df_games[column_name] == 'Cal St. Northridge'\t, column_name ] = \t\t'Cal State Northridge'\t\t\t\t\t\t\n",
    "  df_games.loc[ df_games[column_name] == 'Central Ark.'\t\t, column_name ] = \t\t'Central Arkansas'\t\t\t\t\t\t\n",
    "  df_games.loc[ df_games[column_name] == 'Delaware St.'\t\t, column_name ] = \t\t'Delaware State'\t\t\n",
    "  df_games.loc[ df_games[column_name] == 'Detroit'\t\t\t, column_name ] = \t\t'Detroit Mercy'\t\t\n",
    "  df_games.loc[ df_games[column_name] == 'East Tenn. St.'\t\t, column_name ] = \t\t'East Tennessee State'\n",
    "  df_games.loc[ df_games[column_name] == 'Eastern Ill.'\t\t, column_name ] = \t\t'Eastern Illinois'\t\t\n",
    "  df_games.loc[ df_games[column_name] == 'Eastern Ky.'\t\t, column_name ] = \t\t'Eastern Kentucky'\t\t\n",
    "  df_games.loc[ df_games[column_name] == 'Eastern Mich.'\t\t, column_name ] = \t\t'Eastern Michigan'\t\n",
    "  df_games.loc[ df_games[column_name] == 'Eastern Wash.'\t\t, column_name ] = \t\t'Eastern Washington'\n",
    "  df_games.loc[ df_games[column_name] == \"Fairleigh D'son\"\t\t, column_name ] = \t\t'Fairleigh Dickinson'\t\t\t\t\n",
    "  df_games.loc[ df_games[column_name] == 'FGCU'\t\t, column_name ] = \t\t'Florida Gulf Coast'\t\t\t\t\t\t\n",
    "  df_games.loc[ df_games[column_name] == 'FIU'\t\t\t\t, column_name ] = \t\t'Florida International'\t\t\t\t\t\n",
    "  df_games.loc[ df_games[column_name] == 'Fla. Atlantic'\t\t, column_name ] = \t\t'Florida Atlantic'\n",
    "  df_games.loc[ df_games[column_name] == 'Florida St.'\t\t, column_name ] = \t\t'Florida State'\t\t\t\n",
    "  df_games.loc[ df_games[column_name] == 'Fresno St.'\t\t\t, column_name ] = \t\t'Fresno State'\t\t\n",
    "  df_games.loc[ df_games[column_name] == 'Fort Wayne'\t\t, column_name ] = \t\t'Purdue Fort Wayne'\t\t\n",
    "  df_games.loc[ df_games[column_name] == 'IPFW'\t\t\t\t, column_name ] = \t\t'Purdue Fort Wayne'\t\t\t\t\n",
    "  df_games.loc[ df_games[column_name] == 'Ga. Southern'\t\t, column_name ] = \t\t'Georgia Southern'\t\t\t\n",
    "  df_games.loc[ df_games[column_name] == 'Georgia St.'\t\t, column_name ] = \t\t'Georgia State'\t\t\t\n",
    "  df_games.loc[ df_games[column_name] == 'Geo. Washington'\t\t, column_name ] = \t\t'George Washington'\t\t\t\t\n",
    "  df_games.loc[ df_games[column_name] == 'Grambling'\t\t, column_name ] = \t\t'Grambling State'\t\t\n",
    "  df_games.loc[ df_games[column_name] == 'Humboldt St.'\t\t, column_name ] = \t\t'Humboldt State'\t\t\n",
    "  df_games.loc[ df_games[column_name] == 'Idaho St.'\t\t\t, column_name ] = \t\t'Idaho State'\t\t\t\n",
    "  df_games.loc[ df_games[column_name] == 'Illinois St.'\t\t, column_name ] = \t\t'Illinois State'\t\t\n",
    "  df_games.loc[ df_games[column_name] == 'Iowa St.'\t\t\t, column_name ] = \t\t'Iowa State'\t\t\t\n",
    "  df_games.loc[ df_games[column_name] == 'Indiana St.'\t\t, column_name ] = \t\t'Indiana State'\t\t\n",
    "  df_games.loc[ df_games[column_name] == 'Jackson St.'\t\t, column_name ] = \t\t'Jackson State'\t\t\n",
    "  df_games.loc[ df_games[column_name] == 'Jacksonville St.'\t\t, column_name ] = \t\t'Jacksonville State'\t\t\t\n",
    "  df_games.loc[ df_games[column_name] == 'Kansas St.'\t\t, column_name ] = \t\t'Kansas State'\n",
    "  df_games.loc[ df_games[column_name] == 'Kennesaw St.'\t\t, column_name ] = \t\t'Kennesaw State'\t\t\n",
    "  df_games.loc[ df_games[column_name] == 'Kent St.'\t\t\t, column_name ] = \t\t'Kent State'\t\t\t\n",
    "  df_games.loc[ df_games[column_name] == 'Louisiana'\t\t, column_name ] = \t\t'Louisiana-Lafayette'\n",
    "  df_games.loc[ df_games[column_name] == 'Lamar University'\t\t, column_name ] = \t\t'Lamar'\t\n",
    "  df_games.loc[ df_games[column_name] == 'La.-Monroe'\t\t, column_name ] = \t\t'Louisiana-Monroe'\t\t\n",
    "  df_games.loc[ df_games[column_name] == 'Long Beach St.'\t\t, column_name ] = \t\t'Long Beach State'\t\n",
    "  df_games.loc[ df_games[column_name] == 'Long Island'\t\t, column_name ] = \t\t'LIU Brooklyn'\n",
    "  df_games.loc[ df_games[column_name] == 'LMU'\t, column_name ] = \t\t'Loyola Marymount'\t\t\t\t\t\n",
    "  df_games.loc[ df_games[column_name] == 'Loyola Chicago'\t, column_name ] = \t\t'Loyola (IL)'\t\t\t\n",
    "  df_games.loc[ df_games[column_name] == 'Loyola Maryland'\t, column_name ] = \t\t'Loyola (MD)'\t\t\t\n",
    "  df_games.loc[ df_games[column_name] == 'Loyola (Md.)'\t, column_name ] = \t\t'Loyola (MD)'\t\t\n",
    "  df_games.loc[ df_games[column_name] == 'UMES'\t\t, column_name ] = \t\t'Maryland-Eastern Shore'\n",
    "  df_games.loc[ df_games[column_name] == 'Miami (Fla.)'\t\t, column_name ] = \t\t'Miami (FL)'\n",
    "  df_games.loc[ df_games[column_name] == 'Miami (Ohio)'\t\t, column_name ] = \t\t'Miami (OH)'\n",
    "  df_games.loc[ df_games[column_name] == \"Mt. St. Mary's\"\t\t, column_name ] = \t\t\"Mount St Mary's\"\t\t\t\n",
    "  df_games.loc[ df_games[column_name] == 'Mass.-Lowell'\t\t, column_name ] = \t\t'Massachusetts-Lowell'\t\t\t\t\n",
    "  df_games.loc[ df_games[column_name] == 'McNeese'\t\t, column_name ] = \t\t'McNeese State'\t\t\t\t\t\t\t\t\t\t\n",
    "  df_games.loc[ df_games[column_name] == 'McNeese '\t\t, column_name ] = \t\t'McNeese State'\t\t\t\t\t\t\n",
    "  df_games.loc[ df_games[column_name] == 'McNeese St.'\t\t, column_name ] = \t\t'McNeese State'\t\t\t\n",
    "  df_games.loc[ df_games[column_name] == 'Middle Tenn.'\t\t, column_name ] = \t\t'Middle Tennessee'\t\t\n",
    "  df_games.loc[ df_games[column_name] == 'Mississippi St.'\t\t, column_name ] = \t\t'Mississippi State'\t\n",
    "  df_games.loc[ df_games[column_name] == 'Mississippi Val.'\t\t, column_name ] = \t\t'Mississippi Valley State'\t\t\t\n",
    "  df_games.loc[ df_games[column_name] == 'Mich. St. '\t\t, column_name ] = \t\t'Michigan State'\t\t\n",
    "  df_games.loc[ df_games[column_name] == 'Michigan St.'\t\t, column_name ] = \t\t'Michigan State'\t\t\t\n",
    "  df_games.loc[ df_games[column_name] == 'Mississippi'\t\t\t, column_name ] = \t\t'Ole Miss'\t\t\t\n",
    "  df_games.loc[ df_games[column_name] == 'Missouri St.'\t\t, column_name ] = \t\t'Missouri State'\t\n",
    "  df_games.loc[ df_games[column_name] == 'Montana St.'\t\t, column_name ] = \t\t'Montana State'\t\t\n",
    "  df_games.loc[ df_games[column_name] == 'Morehead St.'\t\t, column_name ] = \t\t'Morehead State'\t\t\n",
    "  df_games.loc[ df_games[column_name] == 'Morgan St.'\t\t\t, column_name ] = \t\t'Morgan State'\t\t\t\n",
    "  df_games.loc[ df_games[column_name] == 'Murray St.'\t\t\t, column_name ] = \t\t'Murray State'\t\t\n",
    "  df_games.loc[ df_games[column_name] == 'N.C. A&T'\t, column_name ] = \t\t'North Carolina A&T'\n",
    "  df_games.loc[ df_games[column_name] == 'N.C. Central'\t, column_name ] = \t\t'North Carolina Central'\n",
    "  df_games.loc[ df_games[column_name] == 'New Mexico St.'\t, column_name ] = \t\t'New Mexico State'\t\t\t\t\n",
    "  df_games.loc[ df_games[column_name] == 'NC State'\t, column_name ] = \t\t'North Carolina State'\n",
    "  df_games.loc[ df_games[column_name] == 'North Carolina St.'\t, column_name ] = \t\t'North Carolina State'\t\n",
    "  df_games.loc[ df_games[column_name] == 'North Dakota St.'\t, column_name ] = \t\t'North Dakota State'\t\t\t\t\n",
    "  df_games.loc[ df_games[column_name] == 'Northern Ariz.'\t, column_name ] = \t\t'Northern Arizona'\t\t\t\t\n",
    "  df_games.loc[ df_games[column_name] == 'Northern Colo.'\t, column_name ] = \t\t'Northern Colorado'\t\t\n",
    "  df_games.loc[ df_games[column_name] == 'Northern Ill.'\t, column_name ] = \t\t'Northern Illinois'\t\t\t\n",
    "  df_games.loc[ df_games[column_name] == \"N'western St.\"\t, column_name ] = \t\t\"Northwestern State\"\t\n",
    "  df_games.loc[ df_games[column_name] == 'Northwestern St.'\t, column_name ] = \t\t\"Northwestern State\"\t\t\t\t\n",
    "  df_games.loc[ df_games[column_name] == 'Nicholls St.'\t\t, column_name ] = \t\t'Nicholls State'\t\t\n",
    "  df_games.loc[ df_games[column_name] == 'Norfolk St.'\t\t, column_name ] = \t\t'Norfolk State'\t\t\n",
    "  df_games.loc[ df_games[column_name] == 'Northern Ky.'\t\t, column_name ] = \t\t'Northern Kentucky'\t\n",
    "  df_games.loc[ df_games[column_name] == 'Ohio St.'\t\t\t, column_name ] = \t\t'Ohio State'\t\t\t\n",
    "  df_games.loc[ df_games[column_name] == 'Ohio St. '\t\t\t, column_name ] = \t\t'Ohio State'\t\t\t\n",
    "  df_games.loc[ df_games[column_name] == 'Oklahoma St.'\t\t, column_name ] = \t\t'Oklahoma State'\t\n",
    "  df_games.loc[ df_games[column_name] == 'Oregon St.'\t\t, column_name ] = \t\t'Oregon State'\t\n",
    "  df_games.loc[ df_games[column_name] == 'Neb. Omaha'\t\t\t, column_name ] = \t\t'Nebraska-Omaha'\t\n",
    "  df_games.loc[ df_games[column_name] == 'Omaha'\t\t\t, column_name ] = \t\t'Nebraska-Omaha'\t\t\t\t\t\n",
    "  df_games.loc[ df_games[column_name] == 'Penn'\t\t\t, column_name ] = \t\t'Pennsylvania'\t\t\t\t\t\t\t\t\n",
    "  df_games.loc[ df_games[column_name] == 'Penn St.'\t\t\t, column_name ] = \t\t'Penn State'\t\t\t\t\n",
    "  df_games.loc[ df_games[column_name] == 'Prairie View'\t\t, column_name ] = \t\t'Prairie View A&M'\t\t\n",
    "  df_games.loc[ df_games[column_name] == 'Portland St.'\t\t, column_name ] = \t\t'Portland State'\t\t\n",
    "  df_games.loc[ df_games[column_name] == 'S.C. Upstate'\t, column_name ] = \t\t'USC Upstate'\t\n",
    "  df_games.loc[ df_games[column_name] == 'S. Carolina St.'\t, column_name ] = \t\t'South Carolina State'\n",
    "  df_games.loc[ df_games[column_name] == 'South Carolina St.'\t, column_name ] = \t\t'South Carolina State'\t\t\t\n",
    "  df_games.loc[ df_games[column_name] == 'Sacramento St.'\t\t, column_name ] = \t\t'Sacramento State'\t\t\t\n",
    "  df_games.loc[ df_games[column_name] == 'Sam Houston St.'\t\t, column_name ] = \t\t'Sam Houston State'\t\t\t\t\n",
    "  df_games.loc[ df_games[column_name] == 'San Diego St.'\t\t, column_name ] = \t\t'San Diego State'\t\t\n",
    "  df_games.loc[ df_games[column_name] == 'San Jose St.'\t\t, column_name ] = \t\t'San Jose State'\t\t\n",
    "  df_games.loc[ df_games[column_name] == 'Savannah St.'\t\t, column_name ] = \t\t'Savannah State'\t\t\n",
    "  df_games.loc[ df_games[column_name] == 'Seattle U'\t\t\t, column_name ] = \t\t'Seattle'\t\t\t\n",
    "  df_games.loc[ df_games[column_name] == 'SFA'\t, column_name ] = \t\t'Stephen F Austin'\n",
    "  df_games.loc[ df_games[column_name] == 'Stephen F. Austin'\t, column_name ] = \t\t'Stephen F Austin'\t\t\t\t\t\n",
    "  df_games.loc[ df_games[column_name] == 'SIU Edwardsville'\t, column_name ] = \t\t'SIU-Edwardsville'\t\t\t\t\t\t\n",
    "  df_games.loc[ df_games[column_name] == 'SIUE'\t, column_name ] = \t\t'SIU-Edwardsville'\t\t\t\t\t\n",
    "  df_games.loc[ df_games[column_name] == 'South Ala.'\t\t\t, column_name ] = \t\t'South Alabama'\t\t\t\n",
    "  df_games.loc[ df_games[column_name] == 'South Dakota St.'\t\t\t, column_name ] = \t\t'South Dakota State'\t\n",
    "  df_games.loc[ df_games[column_name] == 'South Fla.'\t\t\t, column_name ] = \t\t'South Florida'\t\t\n",
    "  df_games.loc[ df_games[column_name] == 'Southern Ill.'\t\t, column_name ] = \t\t'Southern Illinois'\t\n",
    "  df_games.loc[ df_games[column_name] == 'Southeast Mo. St.'\t\t, column_name ] = \t\t'Southeast Missouri State'\n",
    "  df_games.loc[ df_games[column_name] == 'Southeastern La.'\t\t, column_name ] = \t\t'Southeastern Louisiana'\t\t\n",
    "  df_games.loc[ df_games[column_name] == 'Southern Miss.'\t\t, column_name ] = \t\t'Southern Miss'\t\t\n",
    "  df_games.loc[ df_games[column_name] == 'Southern U.'\t\t, column_name ] = \t\t'Southern University'\t\n",
    "  df_games.loc[ df_games[column_name] == 'Southern Univ.'\t\t, column_name ] = \t\t'Southern University'\t\n",
    "  df_games.loc[ df_games[column_name] == \"St. Bonaventure\"\t, column_name ] = \t\t\"St Bonaventure\"\t\t\t\n",
    "  df_games.loc[ df_games[column_name] == \"St. Francis (B'klyn)\"\t, column_name ] = \t\t\"St Francis (BKN)\"\t\t\t\n",
    "  df_games.loc[ df_games[column_name] == 'St. Francis (NY)'\t, column_name ] = \t\t\"St Francis (BKN)\"\n",
    "  df_games.loc[ df_games[column_name] == 'St. Francis (PA)'\t, column_name ] = \t\t\"St Francis (PA)\"\t\n",
    "  df_games.loc[ df_games[column_name] == 'St. Francis (Pa.)'\t, column_name ] = \t\t\"St Francis (PA)\"\t\n",
    "  df_games.loc[ df_games[column_name] == \"Saint Joseph's\"\t, column_name ] = \t\t\"Saint Joseph's (PA)\"\n",
    "  df_games.loc[ df_games[column_name] == \"St. Mary's (CA)\"\t, column_name ] = \t\t\"Saint Mary's\"\t\n",
    "  df_games.loc[ df_games[column_name] == \"St. Mary's (Cal.)\"\t, column_name ] = \t\t\"Saint Mary's\"\t\n",
    "  df_games.loc[ df_games[column_name] == \"St. Peter's\"\t, column_name ] = \t\t\"St Peter's\"\t\n",
    "  df_games.loc[ df_games[column_name] == \"St. John's (NY)\"\t, column_name ] = \t\t\"St John's\"\t\t\n",
    "  df_games.loc[ df_games[column_name] == \"St. John's \"\t, column_name ] = \t\t\"St John's\"\t\t\t\t\n",
    "  df_games.loc[ df_games[column_name] == 'Tennessee St.'\t\t, column_name ] = \t\t'Tennessee State'\t\t\n",
    "  df_games.loc[ df_games[column_name] == 'Texas A&M-C.C.'\t\t\t, column_name ] = \t\t'Texas A&M-CC'\t\t\t\n",
    "  df_games.loc[ df_games[column_name] == 'Texas St.'\t\t\t, column_name ] = \t\t'Texas State'\t\t\t\n",
    "  df_games.loc[ df_games[column_name] == 'UC Santa Barbara'\t, column_name ] = \t\t'UC Santa Barb.'\t\t\n",
    "  df_games.loc[ df_games[column_name] == 'Ill.-Chicago'\t\t, column_name ] = \t\t'UIC'\t\t\t\t\t\n",
    "  df_games.loc[ df_games[column_name] == 'Md.-East. Shore'\t, column_name ] = \t\t'Maryland-Eastern Shore'\t\t\t\t\t\n",
    "  df_games.loc[ df_games[column_name] == 'UNCG'\t\t, column_name ] = \t\t'UNC Greensboro'\t\t\t\t\t\n",
    "  df_games.loc[ df_games[column_name] == 'UNCW'\t\t, column_name ] = \t\t'North Carolina-Wilmington'\t\t\t\t\t\n",
    "  df_games.loc[ df_games[column_name] == 'UNC Wilmington'\t\t, column_name ] = \t\t'North Carolina-Wilmington'\t\t\t\t\t\n",
    "  df_games.loc[ df_games[column_name] == 'Southern California', column_name ] = \t\t'USC'\t\t\t\t\t\n",
    "  df_games.loc[ df_games[column_name] == 'UConn'\t\t\t, column_name ] = \t\t'Connecticut'\t\t\t\t\t\n",
    "  df_games.loc[ df_games[column_name] == 'UC Santa Barb.'\t\t\t, column_name ] = \t\t'UC Santa Barbara'\t\t\t\t\t\t\n",
    "  df_games.loc[ df_games[column_name] == 'UIC'\t\t\t, column_name ] = \t\t'Illinois-Chicago'\t\t\t\t\t\t\n",
    "  df_games.loc[ df_games[column_name] == 'UNI'\t\t\t, column_name ] = \t\t'Northern Iowa'\t\t\t\t\t\t\t\n",
    "  df_games.loc[ df_games[column_name] == 'UT Arlington'\t\t\t, column_name ] = \t\t'Texas-Arlington'\t\t\n",
    "  df_games.loc[ df_games[column_name] == 'UT Arlington '\t\t\t, column_name ] = \t\t'Texas-Arlington'\t\t\n",
    "  df_games.loc[ df_games[column_name] == 'UT Martin'\t\t\t, column_name ] = \t\t'Tennessee-Martin'\t\t\n",
    "  df_games.loc[ df_games[column_name] == 'UTRGV'\t\t\t, column_name ] = \t\t'Texas Rio Grande Valley'\t\t\n",
    "  df_games.loc[ df_games[column_name] == 'Utah St.'\t\t\t, column_name ] = \t\t'Utah State'\t\t\t\t\n",
    "  df_games.loc[ df_games[column_name] == 'VCU'\t\t\t, column_name ] = \t\t'Virginia Commonwealth'\t\t\n",
    "  df_games.loc[ df_games[column_name] == 'VMI'\t\t\t, column_name ] = \t\t'Virginia Military'\t\t\n",
    "  df_games.loc[ df_games[column_name] == 'Washington St.'\t\t\t, column_name ] = \t\t'Washington State'\t\t\t\n",
    "  df_games.loc[ df_games[column_name] == 'Weber St.'\t\t\t, column_name ] = \t\t'Weber State'\t\t\t\n",
    "  df_games.loc[ df_games[column_name] == 'Western Caro.'\t\t, column_name ] = \t\t'Western Carolina'\n",
    "  df_games.loc[ df_games[column_name] == 'Western Ill.'\t\t, column_name ] = \t\t'Western Illinois'\t\n",
    "  df_games.loc[ df_games[column_name] == 'Western Ky.'\t\t, column_name ] = \t\t'Western Kentucky'\t\n",
    "  df_games.loc[ df_games[column_name] == 'Western Mich.'\t\t, column_name ] = \t\t'Western Michigan'\t\t\n",
    "  df_games.loc[ df_games[column_name] == 'Wichita St.'\t\t, column_name ] = \t\t'Wichita State'\t\t\n",
    "  df_games.loc[ df_games[column_name] == 'Wright St.'\t\t\t, column_name ] = \t\t'Wright State'\t\n",
    "  df_games.loc[ df_games[column_name] == 'Youngstown St.'\t\t\t, column_name ] = \t\t'Youngstown State'"
   ]
  },
  {
   "cell_type": "code",
   "execution_count": 8,
   "metadata": {
    "colab": {},
    "colab_type": "code",
    "id": "JfXK5ExYymue"
   },
   "outputs": [],
   "source": [
    "RenameTeams(s2015,'HomeTeam')\n",
    "RenameTeams(s2015,'AwayTeam')\n",
    "RenameTeams(s2016,'HomeTeam')\n",
    "RenameTeams(s2016,'AwayTeam')\n",
    "RenameTeams(s2017,'HomeTeam')\n",
    "RenameTeams(s2017,'AwayTeam')\n",
    "RenameTeams(s2018,'HomeTeam')\n",
    "RenameTeams(s2018,'AwayTeam')"
   ]
  },
  {
   "cell_type": "markdown",
   "metadata": {
    "colab_type": "text",
    "id": "y2KTtTyfvd98"
   },
   "source": [
    "### Calculate the team's scoring average at home\n",
    "### Calculate the team's scoring average away\n",
    "### Calculate the team's home defensive average\n",
    "### Calculate the team's away defensive average  \n",
    "\n",
    "I mentioned in the project that we need to take advantage of Pandas and that is what we do here. We can do a single command to create these values.  \n",
    "\n",
    "`expanding().mean()` [Documentation](https://pandas.pydata.org/pandas-docs/stable/reference/api/pandas.DataFrame.expanding.html) gives us a rolling average. "
   ]
  },
  {
   "cell_type": "code",
   "execution_count": 9,
   "metadata": {
    "colab": {},
    "colab_type": "code",
    "id": "IN4zAENcx8eA"
   },
   "outputs": [],
   "source": [
    "def CalculateScores(df):\n",
    "  for index, row in teams.iterrows():\n",
    "    ## Home Team Stats\n",
    "    df.loc[ df['HomeTeam'] == row.Team, 'HomeScoreAverage' ] = df[(df['HomeTeam'] == row.Team)]['HomeScore'].expanding().mean()\n",
    "    df.loc[ df['HomeTeam'] == row.Team, 'HomeDefenseAverage' ] = df[(df['HomeTeam'] == row.Team)]['AwayScore'].expanding().mean()\n",
    "    ## Away Team Stats\n",
    "    df.loc[ df['AwayTeam'] == row.Team, 'AwayScoreAverage' ] = df[(df['AwayTeam'] == row.Team)]['AwayScore'].expanding().mean()\n",
    "    df.loc[ df['AwayTeam'] == row.Team, 'AwayDefenseAverage' ] = df[(df['AwayTeam'] == row.Team)]['HomeScore'].expanding().mean()"
   ]
  },
  {
   "cell_type": "code",
   "execution_count": 10,
   "metadata": {
    "colab": {},
    "colab_type": "code",
    "id": "4ljyc7CVyZ7-"
   },
   "outputs": [],
   "source": [
    "CalculateScores(s2015)\n",
    "CalculateScores(s2016)\n",
    "CalculateScores(s2017)\n",
    "CalculateScores(s2018)"
   ]
  },
  {
   "cell_type": "markdown",
   "metadata": {
    "colab_type": "text",
    "id": "shbNYxPkyv7x"
   },
   "source": [
    "## Combine the data, remove NA values, and calculate the results  \n",
    "\n",
    "We need to remove the NA values because they will crash the system later on. We are also doing in `inplace` so we don't create a new DataFrame.\n",
    "\n",
    "**Note**: We could go and investigate each of these NA values and try and determine why they happened. A couple of them are because teams play non-NCAA teams early in the season and we don't have their history."
   ]
  },
  {
   "cell_type": "code",
   "execution_count": 11,
   "metadata": {},
   "outputs": [
    {
     "data": {
      "text/html": [
       "<div>\n",
       "<style scoped>\n",
       "    .dataframe tbody tr th:only-of-type {\n",
       "        vertical-align: middle;\n",
       "    }\n",
       "\n",
       "    .dataframe tbody tr th {\n",
       "        vertical-align: top;\n",
       "    }\n",
       "\n",
       "    .dataframe thead th {\n",
       "        text-align: right;\n",
       "    }\n",
       "</style>\n",
       "<table border=\"1\" class=\"dataframe\">\n",
       "  <thead>\n",
       "    <tr style=\"text-align: right;\">\n",
       "      <th></th>\n",
       "      <th>Date</th>\n",
       "      <th>HomeTeam</th>\n",
       "      <th>HomeScore</th>\n",
       "      <th>AwayTeam</th>\n",
       "      <th>AwayScore</th>\n",
       "      <th>HomeScoreAverage</th>\n",
       "      <th>HomeDefenseAverage</th>\n",
       "      <th>AwayScoreAverage</th>\n",
       "      <th>AwayDefenseAverage</th>\n",
       "    </tr>\n",
       "  </thead>\n",
       "  <tbody>\n",
       "    <tr>\n",
       "      <th>0</th>\n",
       "      <td>2015-11-13</td>\n",
       "      <td>Hawaii</td>\n",
       "      <td>87</td>\n",
       "      <td>Montana State</td>\n",
       "      <td>76</td>\n",
       "      <td>87.0</td>\n",
       "      <td>76.0</td>\n",
       "      <td>76.0</td>\n",
       "      <td>87.0</td>\n",
       "    </tr>\n",
       "    <tr>\n",
       "      <th>1</th>\n",
       "      <td>2015-11-13</td>\n",
       "      <td>Eastern Michigan</td>\n",
       "      <td>70</td>\n",
       "      <td>Vermont</td>\n",
       "      <td>50</td>\n",
       "      <td>70.0</td>\n",
       "      <td>50.0</td>\n",
       "      <td>50.0</td>\n",
       "      <td>70.0</td>\n",
       "    </tr>\n",
       "    <tr>\n",
       "      <th>2</th>\n",
       "      <td>2015-11-13</td>\n",
       "      <td>Columbia</td>\n",
       "      <td>107</td>\n",
       "      <td>Kean</td>\n",
       "      <td>62</td>\n",
       "      <td>107.0</td>\n",
       "      <td>62.0</td>\n",
       "      <td>NaN</td>\n",
       "      <td>NaN</td>\n",
       "    </tr>\n",
       "    <tr>\n",
       "      <th>3</th>\n",
       "      <td>2015-11-13</td>\n",
       "      <td>Louisiana-Monroe</td>\n",
       "      <td>88</td>\n",
       "      <td>McMurry</td>\n",
       "      <td>43</td>\n",
       "      <td>88.0</td>\n",
       "      <td>43.0</td>\n",
       "      <td>NaN</td>\n",
       "      <td>NaN</td>\n",
       "    </tr>\n",
       "    <tr>\n",
       "      <th>4</th>\n",
       "      <td>2015-11-13</td>\n",
       "      <td>Yale</td>\n",
       "      <td>70</td>\n",
       "      <td>Fairfield</td>\n",
       "      <td>57</td>\n",
       "      <td>70.0</td>\n",
       "      <td>57.0</td>\n",
       "      <td>57.0</td>\n",
       "      <td>70.0</td>\n",
       "    </tr>\n",
       "  </tbody>\n",
       "</table>\n",
       "</div>"
      ],
      "text/plain": [
       "         Date          HomeTeam  HomeScore       AwayTeam  AwayScore  \\\n",
       "0  2015-11-13            Hawaii         87  Montana State         76   \n",
       "1  2015-11-13  Eastern Michigan         70        Vermont         50   \n",
       "2  2015-11-13          Columbia        107           Kean         62   \n",
       "3  2015-11-13  Louisiana-Monroe         88        McMurry         43   \n",
       "4  2015-11-13              Yale         70      Fairfield         57   \n",
       "\n",
       "   HomeScoreAverage  HomeDefenseAverage  AwayScoreAverage  AwayDefenseAverage  \n",
       "0              87.0                76.0              76.0                87.0  \n",
       "1              70.0                50.0              50.0                70.0  \n",
       "2             107.0                62.0               NaN                 NaN  \n",
       "3              88.0                43.0               NaN                 NaN  \n",
       "4              70.0                57.0              57.0                70.0  "
      ]
     },
     "execution_count": 11,
     "metadata": {},
     "output_type": "execute_result"
    }
   ],
   "source": [
    "s2015.head()"
   ]
  },
  {
   "cell_type": "code",
   "execution_count": 12,
   "metadata": {
    "colab": {
     "base_uri": "https://localhost:8080/",
     "height": 51
    },
    "colab_type": "code",
    "id": "M_7dlz5YzKLZ",
    "outputId": "4df05708-ba03-4fa1-b46e-7c20cb23b0c5"
   },
   "outputs": [
    {
     "name": "stdout",
     "output_type": "stream",
     "text": [
      "23291\n",
      "20160\n"
     ]
    }
   ],
   "source": [
    "all_data = pd.concat([s2015,s2016,s2017,s2018])\n",
    "#Remove NAN values\n",
    "print(len(all_data))\n",
    "all_data.dropna(inplace=True)\n",
    "print(len(all_data))\n",
    "\n",
    "all_data['Result'] = games.HomeScore - games.AwayScore"
   ]
  },
  {
   "cell_type": "markdown",
   "metadata": {
    "colab_type": "text",
    "id": "YOcwC7E20HsL"
   },
   "source": [
    "## Save the DataFrame as 'Games-Calculated.csv'  \n",
    "\n",
    "The following code will allow you to download the csv that we have created. If you are using something other than Google Colab you will have to check out their documentation on how to save.  \n",
    "\n",
    "Also, this csv is stored in the Manning cloud so you can download it for the next milestone."
   ]
  },
  {
   "cell_type": "code",
   "execution_count": 13,
   "metadata": {
    "colab": {},
    "colab_type": "code",
    "id": "LGPJ-7d80MKf"
   },
   "outputs": [
    {
     "ename": "ModuleNotFoundError",
     "evalue": "No module named 'google.colab'",
     "output_type": "error",
     "traceback": [
      "\u001b[1;31m---------------------------------------------------------------------------\u001b[0m",
      "\u001b[1;31mModuleNotFoundError\u001b[0m                       Traceback (most recent call last)",
      "\u001b[1;32m<ipython-input-13-9446fb588ed9>\u001b[0m in \u001b[0;36m<module>\u001b[1;34m\u001b[0m\n\u001b[0;32m      5\u001b[0m \u001b[1;33m\u001b[0m\u001b[0m\n\u001b[0;32m      6\u001b[0m \u001b[1;31m#Google Colab code to download\u001b[0m\u001b[1;33m\u001b[0m\u001b[1;33m\u001b[0m\u001b[1;33m\u001b[0m\u001b[0m\n\u001b[1;32m----> 7\u001b[1;33m \u001b[1;32mfrom\u001b[0m \u001b[0mgoogle\u001b[0m\u001b[1;33m.\u001b[0m\u001b[0mcolab\u001b[0m \u001b[1;32mimport\u001b[0m \u001b[0mfiles\u001b[0m\u001b[1;33m\u001b[0m\u001b[1;33m\u001b[0m\u001b[0m\n\u001b[0m\u001b[0;32m      8\u001b[0m \u001b[0mfiles\u001b[0m\u001b[1;33m.\u001b[0m\u001b[0mdownload\u001b[0m\u001b[1;33m(\u001b[0m\u001b[0mfile_name\u001b[0m\u001b[1;33m)\u001b[0m\u001b[1;33m\u001b[0m\u001b[1;33m\u001b[0m\u001b[0m\n",
      "\u001b[1;31mModuleNotFoundError\u001b[0m: No module named 'google.colab'"
     ]
    }
   ],
   "source": [
    "file_name = 'Games-Calculated.csv'\n",
    "\n",
    "#Save the model\n",
    "all_data.to_csv(file_name,header=False,index=False)\n",
    "\n",
    "#Google Colab code to download\n",
    "#from google.colab import files\n",
    "files.download(file_name)"
   ]
  },
  {
   "cell_type": "code",
   "execution_count": null,
   "metadata": {},
   "outputs": [],
   "source": []
  }
 ],
 "metadata": {
  "colab": {
   "authorship_tag": "ABX9TyM+47xE/KLnCfUgu49UgOnv",
   "name": "Milestone2_Answers.ipynb",
   "provenance": []
  },
  "kernelspec": {
   "display_name": "Python 3",
   "language": "python",
   "name": "python3"
  },
  "language_info": {
   "codemirror_mode": {
    "name": "ipython",
    "version": 3
   },
   "file_extension": ".py",
   "mimetype": "text/x-python",
   "name": "python",
   "nbconvert_exporter": "python",
   "pygments_lexer": "ipython3",
   "version": "3.8.5"
  }
 },
 "nbformat": 4,
 "nbformat_minor": 1
}
